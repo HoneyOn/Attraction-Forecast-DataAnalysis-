{
 "cells": [
  {
   "cell_type": "code",
   "execution_count": 2,
   "metadata": {},
   "outputs": [],
   "source": [
    "import pandas as pd #load and manipulate data and for one-hot encoding\n",
    "import numpy as numpy # calculate the mean and standard deviation\n",
    "import xgboost as xgb #contains both XGBClassifier and XGBRegressor\n",
    "from sklearn.model_selection import train_test_split #split data into training and testing\n",
    "from sklearn.metrics import balanced_accuracy_score, roc_auc_score, make_scorer # for scoring during\n",
    "from sklearn.model_selection import GridSearchCV #cross validation\n",
    "from sklearn.metrics import confusion_matrix # creates a confusion matrix\n",
    "from sklearn.metrics import plot_confusion_matrix # draws a confusion matrix\n"
   ]
  },
  {
   "cell_type": "code",
   "execution_count": 3,
   "metadata": {},
   "outputs": [],
   "source": [
    "from xgboost import XGBClassifier"
   ]
  },
  {
   "cell_type": "code",
   "execution_count": 4,
   "metadata": {},
   "outputs": [],
   "source": [
    "#데이터 다운로드\n",
    "df = pd.read_excel(r'C:\\Users\\Hon Kim\\Desktop\\관광통계\\2019년_국민여행조사_원자료\\df.xlsx') "
   ]
  },
  {
   "cell_type": "code",
   "execution_count": 5,
   "metadata": {},
   "outputs": [],
   "source": [
    "#불필요한 열 삭제\n",
    "df.drop(['loco'],axis=1,inplace=True)\n",
    "df.drop(['ID'],axis=1,inplace=True)\n",
    "\n",
    "#일부 데이터 정수형변환\n",
    "df['JEJU']=df['JEJU'].astype(int)\n",
    "df['KYUNG_S']=df['KYUNG_S'].astype(int)\n",
    "df['KYUNG_N']=df['KYUNG_N'].astype(int)\n",
    "df['JEON_S']=df['JEON_S'].astype(int)\n",
    "df['JEON_N']=df['JEON_N'].astype(int)\n",
    "df['CHOONG_S']=df['CHOONG_S'].astype(int)\n",
    "df['CHOONG_N']=df['CHOONG_N'].astype(int)\n",
    "df['GANGWON']=df['GANGWON'].astype(int)\n",
    "df['KYUNGGI']=df['KYUNGGI'].astype(int)\n",
    "df['SEJONG']=df['SEJONG'].astype(int)\n",
    "df['ULSAN']=df['ULSAN'].astype(int)\n",
    "df['DAEJEON']=df['DAEJEON'].astype(int)\n",
    "df['GWANGJU']=df['GWANGJU'].astype(int)\n",
    "df['INCHEON']=df['INCHEON'].astype(int)\n",
    "df['DAEGU']=df['DAEGU'].astype(int)\n",
    "df['BUSAN']=df['BUSAN'].astype(int)\n",
    "df['SEOUL']=df['SEOUL'].astype(int)\n",
    "\n",
    "\n",
    "#데이터 구성요소확인\n",
    "df['pre_food'].unique()"
   ]
  },
  {
   "cell_type": "code",
   "execution_count": 8,
   "metadata": {},
   "outputs": [
    {
     "data": {
      "text/plain": [
       "array([0., 2.])"
      ]
     },
     "execution_count": 8,
     "metadata": {},
     "output_type": "execute_result"
    }
   ],
   "source": [
    "#결측치 처리\n",
    "df=df.fillna(0)\n",
    "\n",
    "#결측치 처리 확인(multi-hot encoding)\n",
    "df['pre_food'].unique()"
   ]
  },
  {
   "cell_type": "code",
   "execution_count": 9,
   "metadata": {},
   "outputs": [
    {
     "data": {
      "text/plain": [
       "dtype('float64')"
      ]
     },
     "execution_count": 9,
     "metadata": {},
     "output_type": "execute_result"
    }
   ],
   "source": [
    "#결측치 처리 후 데이터 타입 확인(XGBoost 는 정수, 실수, 불리안형으로 데이터셋이 존재해야함)\n",
    "df['pre_food'].dtypes"
   ]
  },
  {
   "cell_type": "code",
   "execution_count": 10,
   "metadata": {
    "scrolled": true
   },
   "outputs": [
    {
     "data": {
      "text/html": [
       "<div>\n",
       "<style scoped>\n",
       "    .dataframe tbody tr th:only-of-type {\n",
       "        vertical-align: middle;\n",
       "    }\n",
       "\n",
       "    .dataframe tbody tr th {\n",
       "        vertical-align: top;\n",
       "    }\n",
       "\n",
       "    .dataframe thead th {\n",
       "        text-align: right;\n",
       "    }\n",
       "</style>\n",
       "<table border=\"1\" class=\"dataframe\">\n",
       "  <thead>\n",
       "    <tr style=\"text-align: right;\">\n",
       "      <th></th>\n",
       "      <th>visit_count</th>\n",
       "      <th>visit_acq</th>\n",
       "      <th>SMONTH</th>\n",
       "      <th>SDAY</th>\n",
       "      <th>EMONTH</th>\n",
       "      <th>EDAY</th>\n",
       "      <th>stay</th>\n",
       "      <th>COST</th>\n",
       "      <th>NUM</th>\n",
       "      <th>per_COST</th>\n",
       "      <th>...</th>\n",
       "      <th>SEJONG</th>\n",
       "      <th>KYUNGGI</th>\n",
       "      <th>GANGWON</th>\n",
       "      <th>CHOONG_N</th>\n",
       "      <th>CHOONG_S</th>\n",
       "      <th>JEON_N</th>\n",
       "      <th>JEON_S</th>\n",
       "      <th>KYUNG_N</th>\n",
       "      <th>KYUNG_S</th>\n",
       "      <th>JEJU</th>\n",
       "    </tr>\n",
       "  </thead>\n",
       "  <tbody>\n",
       "    <tr>\n",
       "      <th>0</th>\n",
       "      <td>4</td>\n",
       "      <td>1</td>\n",
       "      <td>8</td>\n",
       "      <td>10</td>\n",
       "      <td>8</td>\n",
       "      <td>11</td>\n",
       "      <td>1</td>\n",
       "      <td>100000.0</td>\n",
       "      <td>1</td>\n",
       "      <td>100000.0</td>\n",
       "      <td>...</td>\n",
       "      <td>0</td>\n",
       "      <td>0</td>\n",
       "      <td>0</td>\n",
       "      <td>0</td>\n",
       "      <td>0</td>\n",
       "      <td>1</td>\n",
       "      <td>0</td>\n",
       "      <td>3</td>\n",
       "      <td>0</td>\n",
       "      <td>0</td>\n",
       "    </tr>\n",
       "    <tr>\n",
       "      <th>1</th>\n",
       "      <td>3</td>\n",
       "      <td>1</td>\n",
       "      <td>5</td>\n",
       "      <td>5</td>\n",
       "      <td>5</td>\n",
       "      <td>6</td>\n",
       "      <td>1</td>\n",
       "      <td>250000.0</td>\n",
       "      <td>1</td>\n",
       "      <td>250000.0</td>\n",
       "      <td>...</td>\n",
       "      <td>0</td>\n",
       "      <td>1</td>\n",
       "      <td>1</td>\n",
       "      <td>0</td>\n",
       "      <td>0</td>\n",
       "      <td>0</td>\n",
       "      <td>0</td>\n",
       "      <td>0</td>\n",
       "      <td>0</td>\n",
       "      <td>0</td>\n",
       "    </tr>\n",
       "    <tr>\n",
       "      <th>2</th>\n",
       "      <td>3</td>\n",
       "      <td>1</td>\n",
       "      <td>3</td>\n",
       "      <td>1</td>\n",
       "      <td>3</td>\n",
       "      <td>1</td>\n",
       "      <td>0</td>\n",
       "      <td>50001.0</td>\n",
       "      <td>3</td>\n",
       "      <td>16667.0</td>\n",
       "      <td>...</td>\n",
       "      <td>0</td>\n",
       "      <td>0</td>\n",
       "      <td>0</td>\n",
       "      <td>0</td>\n",
       "      <td>2</td>\n",
       "      <td>1</td>\n",
       "      <td>0</td>\n",
       "      <td>0</td>\n",
       "      <td>0</td>\n",
       "      <td>0</td>\n",
       "    </tr>\n",
       "    <tr>\n",
       "      <th>3</th>\n",
       "      <td>3</td>\n",
       "      <td>1</td>\n",
       "      <td>11</td>\n",
       "      <td>16</td>\n",
       "      <td>11</td>\n",
       "      <td>17</td>\n",
       "      <td>1</td>\n",
       "      <td>120000.0</td>\n",
       "      <td>1</td>\n",
       "      <td>120000.0</td>\n",
       "      <td>...</td>\n",
       "      <td>0</td>\n",
       "      <td>0</td>\n",
       "      <td>0</td>\n",
       "      <td>0</td>\n",
       "      <td>0</td>\n",
       "      <td>0</td>\n",
       "      <td>0</td>\n",
       "      <td>0</td>\n",
       "      <td>1</td>\n",
       "      <td>1</td>\n",
       "    </tr>\n",
       "    <tr>\n",
       "      <th>4</th>\n",
       "      <td>2</td>\n",
       "      <td>1</td>\n",
       "      <td>8</td>\n",
       "      <td>15</td>\n",
       "      <td>8</td>\n",
       "      <td>17</td>\n",
       "      <td>2</td>\n",
       "      <td>350001.0</td>\n",
       "      <td>3</td>\n",
       "      <td>116667.0</td>\n",
       "      <td>...</td>\n",
       "      <td>0</td>\n",
       "      <td>0</td>\n",
       "      <td>1</td>\n",
       "      <td>0</td>\n",
       "      <td>0</td>\n",
       "      <td>0</td>\n",
       "      <td>1</td>\n",
       "      <td>0</td>\n",
       "      <td>0</td>\n",
       "      <td>0</td>\n",
       "    </tr>\n",
       "    <tr>\n",
       "      <th>5</th>\n",
       "      <td>2</td>\n",
       "      <td>1</td>\n",
       "      <td>10</td>\n",
       "      <td>12</td>\n",
       "      <td>10</td>\n",
       "      <td>12</td>\n",
       "      <td>0</td>\n",
       "      <td>120000.0</td>\n",
       "      <td>4</td>\n",
       "      <td>30000.0</td>\n",
       "      <td>...</td>\n",
       "      <td>0</td>\n",
       "      <td>2</td>\n",
       "      <td>0</td>\n",
       "      <td>0</td>\n",
       "      <td>0</td>\n",
       "      <td>0</td>\n",
       "      <td>0</td>\n",
       "      <td>0</td>\n",
       "      <td>0</td>\n",
       "      <td>0</td>\n",
       "    </tr>\n",
       "    <tr>\n",
       "      <th>6</th>\n",
       "      <td>2</td>\n",
       "      <td>1</td>\n",
       "      <td>1</td>\n",
       "      <td>4</td>\n",
       "      <td>1</td>\n",
       "      <td>4</td>\n",
       "      <td>0</td>\n",
       "      <td>99999.0</td>\n",
       "      <td>3</td>\n",
       "      <td>33333.0</td>\n",
       "      <td>...</td>\n",
       "      <td>0</td>\n",
       "      <td>2</td>\n",
       "      <td>0</td>\n",
       "      <td>0</td>\n",
       "      <td>0</td>\n",
       "      <td>0</td>\n",
       "      <td>0</td>\n",
       "      <td>0</td>\n",
       "      <td>0</td>\n",
       "      <td>0</td>\n",
       "    </tr>\n",
       "    <tr>\n",
       "      <th>7</th>\n",
       "      <td>2</td>\n",
       "      <td>1</td>\n",
       "      <td>3</td>\n",
       "      <td>9</td>\n",
       "      <td>3</td>\n",
       "      <td>9</td>\n",
       "      <td>0</td>\n",
       "      <td>180000.0</td>\n",
       "      <td>3</td>\n",
       "      <td>60000.0</td>\n",
       "      <td>...</td>\n",
       "      <td>0</td>\n",
       "      <td>1</td>\n",
       "      <td>0</td>\n",
       "      <td>1</td>\n",
       "      <td>0</td>\n",
       "      <td>0</td>\n",
       "      <td>0</td>\n",
       "      <td>0</td>\n",
       "      <td>0</td>\n",
       "      <td>0</td>\n",
       "    </tr>\n",
       "    <tr>\n",
       "      <th>8</th>\n",
       "      <td>2</td>\n",
       "      <td>1</td>\n",
       "      <td>1</td>\n",
       "      <td>12</td>\n",
       "      <td>1</td>\n",
       "      <td>13</td>\n",
       "      <td>1</td>\n",
       "      <td>150000.0</td>\n",
       "      <td>1</td>\n",
       "      <td>150000.0</td>\n",
       "      <td>...</td>\n",
       "      <td>0</td>\n",
       "      <td>0</td>\n",
       "      <td>2</td>\n",
       "      <td>0</td>\n",
       "      <td>0</td>\n",
       "      <td>0</td>\n",
       "      <td>0</td>\n",
       "      <td>0</td>\n",
       "      <td>0</td>\n",
       "      <td>0</td>\n",
       "    </tr>\n",
       "    <tr>\n",
       "      <th>9</th>\n",
       "      <td>2</td>\n",
       "      <td>1</td>\n",
       "      <td>4</td>\n",
       "      <td>14</td>\n",
       "      <td>4</td>\n",
       "      <td>14</td>\n",
       "      <td>0</td>\n",
       "      <td>85000.0</td>\n",
       "      <td>2</td>\n",
       "      <td>42500.0</td>\n",
       "      <td>...</td>\n",
       "      <td>0</td>\n",
       "      <td>2</td>\n",
       "      <td>0</td>\n",
       "      <td>0</td>\n",
       "      <td>0</td>\n",
       "      <td>0</td>\n",
       "      <td>0</td>\n",
       "      <td>0</td>\n",
       "      <td>0</td>\n",
       "      <td>0</td>\n",
       "    </tr>\n",
       "  </tbody>\n",
       "</table>\n",
       "<p>10 rows × 133 columns</p>\n",
       "</div>"
      ],
      "text/plain": [
       "   visit_count  visit_acq  SMONTH  SDAY  EMONTH  EDAY  stay      COST  NUM  \\\n",
       "0            4          1       8    10       8    11     1  100000.0    1   \n",
       "1            3          1       5     5       5     6     1  250000.0    1   \n",
       "2            3          1       3     1       3     1     0   50001.0    3   \n",
       "3            3          1      11    16      11    17     1  120000.0    1   \n",
       "4            2          1       8    15       8    17     2  350001.0    3   \n",
       "5            2          1      10    12      10    12     0  120000.0    4   \n",
       "6            2          1       1     4       1     4     0   99999.0    3   \n",
       "7            2          1       3     9       3     9     0  180000.0    3   \n",
       "8            2          1       1    12       1    13     1  150000.0    1   \n",
       "9            2          1       4    14       4    14     0   85000.0    2   \n",
       "\n",
       "   per_COST  ...  SEJONG  KYUNGGI  GANGWON  CHOONG_N  CHOONG_S  JEON_N  \\\n",
       "0  100000.0  ...       0        0        0         0         0       1   \n",
       "1  250000.0  ...       0        1        1         0         0       0   \n",
       "2   16667.0  ...       0        0        0         0         2       1   \n",
       "3  120000.0  ...       0        0        0         0         0       0   \n",
       "4  116667.0  ...       0        0        1         0         0       0   \n",
       "5   30000.0  ...       0        2        0         0         0       0   \n",
       "6   33333.0  ...       0        2        0         0         0       0   \n",
       "7   60000.0  ...       0        1        0         1         0       0   \n",
       "8  150000.0  ...       0        0        2         0         0       0   \n",
       "9   42500.0  ...       0        2        0         0         0       0   \n",
       "\n",
       "   JEON_S  KYUNG_N  KYUNG_S  JEJU  \n",
       "0       0        3        0     0  \n",
       "1       0        0        0     0  \n",
       "2       0        0        0     0  \n",
       "3       0        0        1     1  \n",
       "4       1        0        0     0  \n",
       "5       0        0        0     0  \n",
       "6       0        0        0     0  \n",
       "7       0        0        0     0  \n",
       "8       0        0        0     0  \n",
       "9       0        0        0     0  \n",
       "\n",
       "[10 rows x 133 columns]"
      ]
     },
     "execution_count": 10,
     "metadata": {},
     "output_type": "execute_result"
    }
   ],
   "source": [
    "#처리된 데이터 확인\n",
    "df.head(10)"
   ]
  },
  {
   "cell_type": "code",
   "execution_count": 11,
   "metadata": {
    "scrolled": true
   },
   "outputs": [
    {
     "data": {
      "text/plain": [
       "RangeIndex(start=0, stop=10503, step=1)"
      ]
     },
     "execution_count": 11,
     "metadata": {},
     "output_type": "execute_result"
    }
   ],
   "source": [
    "#정제된 데이터 행갯수\n",
    "df.index"
   ]
  },
  {
   "cell_type": "code",
   "execution_count": 12,
   "metadata": {},
   "outputs": [
    {
     "data": {
      "text/plain": [
       "Index(['visit_count', 'visit_acq', 'SMONTH', 'SDAY', 'EMONTH', 'EDAY', 'stay',\n",
       "       'COST', 'NUM', 'per_COST',\n",
       "       ...\n",
       "       'SEJONG', 'KYUNGGI', 'GANGWON', 'CHOONG_N', 'CHOONG_S', 'JEON_N',\n",
       "       'JEON_S', 'KYUNG_N', 'KYUNG_S', 'JEJU'],\n",
       "      dtype='object', length=133)"
      ]
     },
     "execution_count": 12,
     "metadata": {},
     "output_type": "execute_result"
    }
   ],
   "source": [
    "#정제된 데이터 열 갯수\n",
    "df.columns"
   ]
  },
  {
   "cell_type": "code",
   "execution_count": 13,
   "metadata": {},
   "outputs": [
    {
     "data": {
      "text/plain": [
       "array([[4., 1., 8., ..., 3., 0., 0.],\n",
       "       [3., 1., 5., ..., 0., 0., 0.],\n",
       "       [3., 1., 3., ..., 0., 0., 0.],\n",
       "       ...,\n",
       "       [1., 2., 1., ..., 0., 0., 0.],\n",
       "       [1., 2., 2., ..., 0., 0., 0.],\n",
       "       [1., 2., 2., ..., 0., 0., 0.]])"
      ]
     },
     "execution_count": 13,
     "metadata": {},
     "output_type": "execute_result"
    }
   ],
   "source": [
    "#정제된 데이터 리스트\n",
    "df.values"
   ]
  },
  {
   "cell_type": "code",
   "execution_count": 14,
   "metadata": {},
   "outputs": [
    {
     "data": {
      "text/html": [
       "<div>\n",
       "<style scoped>\n",
       "    .dataframe tbody tr th:only-of-type {\n",
       "        vertical-align: middle;\n",
       "    }\n",
       "\n",
       "    .dataframe tbody tr th {\n",
       "        vertical-align: top;\n",
       "    }\n",
       "\n",
       "    .dataframe thead th {\n",
       "        text-align: right;\n",
       "    }\n",
       "</style>\n",
       "<table border=\"1\" class=\"dataframe\">\n",
       "  <thead>\n",
       "    <tr style=\"text-align: right;\">\n",
       "      <th></th>\n",
       "      <th>SEOUL</th>\n",
       "      <th>ULSAN</th>\n",
       "    </tr>\n",
       "  </thead>\n",
       "  <tbody>\n",
       "    <tr>\n",
       "      <th>0</th>\n",
       "      <td>0</td>\n",
       "      <td>0</td>\n",
       "    </tr>\n",
       "    <tr>\n",
       "      <th>1</th>\n",
       "      <td>0</td>\n",
       "      <td>0</td>\n",
       "    </tr>\n",
       "    <tr>\n",
       "      <th>2</th>\n",
       "      <td>0</td>\n",
       "      <td>0</td>\n",
       "    </tr>\n",
       "    <tr>\n",
       "      <th>3</th>\n",
       "      <td>0</td>\n",
       "      <td>0</td>\n",
       "    </tr>\n",
       "    <tr>\n",
       "      <th>4</th>\n",
       "      <td>0</td>\n",
       "      <td>0</td>\n",
       "    </tr>\n",
       "    <tr>\n",
       "      <th>...</th>\n",
       "      <td>...</td>\n",
       "      <td>...</td>\n",
       "    </tr>\n",
       "    <tr>\n",
       "      <th>10498</th>\n",
       "      <td>0</td>\n",
       "      <td>0</td>\n",
       "    </tr>\n",
       "    <tr>\n",
       "      <th>10499</th>\n",
       "      <td>0</td>\n",
       "      <td>0</td>\n",
       "    </tr>\n",
       "    <tr>\n",
       "      <th>10500</th>\n",
       "      <td>0</td>\n",
       "      <td>0</td>\n",
       "    </tr>\n",
       "    <tr>\n",
       "      <th>10501</th>\n",
       "      <td>0</td>\n",
       "      <td>0</td>\n",
       "    </tr>\n",
       "    <tr>\n",
       "      <th>10502</th>\n",
       "      <td>0</td>\n",
       "      <td>0</td>\n",
       "    </tr>\n",
       "  </tbody>\n",
       "</table>\n",
       "<p>10503 rows × 2 columns</p>\n",
       "</div>"
      ],
      "text/plain": [
       "       SEOUL  ULSAN\n",
       "0          0      0\n",
       "1          0      0\n",
       "2          0      0\n",
       "3          0      0\n",
       "4          0      0\n",
       "...      ...    ...\n",
       "10498      0      0\n",
       "10499      0      0\n",
       "10500      0      0\n",
       "10501      0      0\n",
       "10502      0      0\n",
       "\n",
       "[10503 rows x 2 columns]"
      ]
     },
     "execution_count": 14,
     "metadata": {},
     "output_type": "execute_result"
    }
   ],
   "source": [
    "#데이터 특정 열 확인\n",
    "df.filter(['SEOUL','ULSAN'])"
   ]
  },
  {
   "cell_type": "code",
   "execution_count": 15,
   "metadata": {},
   "outputs": [],
   "source": [
    "all_float = all([col_type == numpy.dtype('float') for col_type in df.dtypes])\n",
    "if not all_float:\n",
    "    df = df.astype('float')"
   ]
  },
  {
   "cell_type": "code",
   "execution_count": 16,
   "metadata": {},
   "outputs": [],
   "source": [
    "#dft = df.T\n",
    "#dft[:15]"
   ]
  },
  {
   "cell_type": "code",
   "execution_count": 16,
   "metadata": {},
   "outputs": [
    {
     "data": {
      "text/plain": [
       "7852"
      ]
     },
     "execution_count": 16,
     "metadata": {},
     "output_type": "execute_result"
    }
   ],
   "source": [
    "#만족도, 재방문률, 추천정도 변수를 합쳐\n",
    "#타겟변수설정\n",
    "point = df['Satify']+df['revisit']+df['recommend']\n",
    "\n",
    "#point2 = point >= 15\n",
    "#(point2.values==True).sum()\n",
    "\n",
    "#point2 = point >= 14\n",
    "#(point2.values==True).sum()\n",
    "\n",
    "#point2 = point >= 13\n",
    "#(point2.values==True).sum()\n",
    "\n",
    "point2 = point >= 12\n",
    "(point2.values==True).sum()\n",
    "\n",
    "#point2 = point >= 11\n",
    "#(point2.values==True).sum()\n",
    "\n",
    "#point2 = point >= 10\n",
    "#(point2.values==True).sum()"
   ]
  },
  {
   "cell_type": "code",
   "execution_count": 17,
   "metadata": {},
   "outputs": [
    {
     "data": {
      "text/html": [
       "<div>\n",
       "<style scoped>\n",
       "    .dataframe tbody tr th:only-of-type {\n",
       "        vertical-align: middle;\n",
       "    }\n",
       "\n",
       "    .dataframe tbody tr th {\n",
       "        vertical-align: top;\n",
       "    }\n",
       "\n",
       "    .dataframe thead th {\n",
       "        text-align: right;\n",
       "    }\n",
       "</style>\n",
       "<table border=\"1\" class=\"dataframe\">\n",
       "  <thead>\n",
       "    <tr style=\"text-align: right;\">\n",
       "      <th></th>\n",
       "      <th>visit_count</th>\n",
       "      <th>visit_acq</th>\n",
       "      <th>SMONTH</th>\n",
       "      <th>SDAY</th>\n",
       "      <th>EMONTH</th>\n",
       "      <th>EDAY</th>\n",
       "      <th>stay</th>\n",
       "      <th>COST</th>\n",
       "      <th>NUM</th>\n",
       "      <th>per_COST</th>\n",
       "      <th>...</th>\n",
       "      <th>SEJONG</th>\n",
       "      <th>KYUNGGI</th>\n",
       "      <th>GANGWON</th>\n",
       "      <th>CHOONG_N</th>\n",
       "      <th>CHOONG_S</th>\n",
       "      <th>JEON_N</th>\n",
       "      <th>JEON_S</th>\n",
       "      <th>KYUNG_N</th>\n",
       "      <th>KYUNG_S</th>\n",
       "      <th>JEJU</th>\n",
       "    </tr>\n",
       "  </thead>\n",
       "  <tbody>\n",
       "    <tr>\n",
       "      <th>0</th>\n",
       "      <td>4</td>\n",
       "      <td>1</td>\n",
       "      <td>8</td>\n",
       "      <td>10</td>\n",
       "      <td>8</td>\n",
       "      <td>11</td>\n",
       "      <td>1</td>\n",
       "      <td>100000.0</td>\n",
       "      <td>1</td>\n",
       "      <td>100000.0</td>\n",
       "      <td>...</td>\n",
       "      <td>0</td>\n",
       "      <td>0</td>\n",
       "      <td>0</td>\n",
       "      <td>0</td>\n",
       "      <td>0</td>\n",
       "      <td>1</td>\n",
       "      <td>0</td>\n",
       "      <td>3</td>\n",
       "      <td>0</td>\n",
       "      <td>0</td>\n",
       "    </tr>\n",
       "    <tr>\n",
       "      <th>1</th>\n",
       "      <td>3</td>\n",
       "      <td>1</td>\n",
       "      <td>5</td>\n",
       "      <td>5</td>\n",
       "      <td>5</td>\n",
       "      <td>6</td>\n",
       "      <td>1</td>\n",
       "      <td>250000.0</td>\n",
       "      <td>1</td>\n",
       "      <td>250000.0</td>\n",
       "      <td>...</td>\n",
       "      <td>0</td>\n",
       "      <td>1</td>\n",
       "      <td>1</td>\n",
       "      <td>0</td>\n",
       "      <td>0</td>\n",
       "      <td>0</td>\n",
       "      <td>0</td>\n",
       "      <td>0</td>\n",
       "      <td>0</td>\n",
       "      <td>0</td>\n",
       "    </tr>\n",
       "    <tr>\n",
       "      <th>2</th>\n",
       "      <td>3</td>\n",
       "      <td>1</td>\n",
       "      <td>3</td>\n",
       "      <td>1</td>\n",
       "      <td>3</td>\n",
       "      <td>1</td>\n",
       "      <td>0</td>\n",
       "      <td>50001.0</td>\n",
       "      <td>3</td>\n",
       "      <td>16667.0</td>\n",
       "      <td>...</td>\n",
       "      <td>0</td>\n",
       "      <td>0</td>\n",
       "      <td>0</td>\n",
       "      <td>0</td>\n",
       "      <td>2</td>\n",
       "      <td>1</td>\n",
       "      <td>0</td>\n",
       "      <td>0</td>\n",
       "      <td>0</td>\n",
       "      <td>0</td>\n",
       "    </tr>\n",
       "    <tr>\n",
       "      <th>3</th>\n",
       "      <td>3</td>\n",
       "      <td>1</td>\n",
       "      <td>11</td>\n",
       "      <td>16</td>\n",
       "      <td>11</td>\n",
       "      <td>17</td>\n",
       "      <td>1</td>\n",
       "      <td>120000.0</td>\n",
       "      <td>1</td>\n",
       "      <td>120000.0</td>\n",
       "      <td>...</td>\n",
       "      <td>0</td>\n",
       "      <td>0</td>\n",
       "      <td>0</td>\n",
       "      <td>0</td>\n",
       "      <td>0</td>\n",
       "      <td>0</td>\n",
       "      <td>0</td>\n",
       "      <td>0</td>\n",
       "      <td>1</td>\n",
       "      <td>1</td>\n",
       "    </tr>\n",
       "    <tr>\n",
       "      <th>4</th>\n",
       "      <td>2</td>\n",
       "      <td>1</td>\n",
       "      <td>8</td>\n",
       "      <td>15</td>\n",
       "      <td>8</td>\n",
       "      <td>17</td>\n",
       "      <td>2</td>\n",
       "      <td>350001.0</td>\n",
       "      <td>3</td>\n",
       "      <td>116667.0</td>\n",
       "      <td>...</td>\n",
       "      <td>0</td>\n",
       "      <td>0</td>\n",
       "      <td>1</td>\n",
       "      <td>0</td>\n",
       "      <td>0</td>\n",
       "      <td>0</td>\n",
       "      <td>1</td>\n",
       "      <td>0</td>\n",
       "      <td>0</td>\n",
       "      <td>0</td>\n",
       "    </tr>\n",
       "  </tbody>\n",
       "</table>\n",
       "<p>5 rows × 130 columns</p>\n",
       "</div>"
      ],
      "text/plain": [
       "   visit_count  visit_acq  SMONTH  SDAY  EMONTH  EDAY  stay      COST  NUM  \\\n",
       "0            4          1       8    10       8    11     1  100000.0    1   \n",
       "1            3          1       5     5       5     6     1  250000.0    1   \n",
       "2            3          1       3     1       3     1     0   50001.0    3   \n",
       "3            3          1      11    16      11    17     1  120000.0    1   \n",
       "4            2          1       8    15       8    17     2  350001.0    3   \n",
       "\n",
       "   per_COST  ...  SEJONG  KYUNGGI  GANGWON  CHOONG_N  CHOONG_S  JEON_N  \\\n",
       "0  100000.0  ...       0        0        0         0         0       1   \n",
       "1  250000.0  ...       0        1        1         0         0       0   \n",
       "2   16667.0  ...       0        0        0         0         2       1   \n",
       "3  120000.0  ...       0        0        0         0         0       0   \n",
       "4  116667.0  ...       0        0        1         0         0       0   \n",
       "\n",
       "   JEON_S  KYUNG_N  KYUNG_S  JEJU  \n",
       "0       0        3        0     0  \n",
       "1       0        0        0     0  \n",
       "2       0        0        0     0  \n",
       "3       0        0        1     1  \n",
       "4       1        0        0     0  \n",
       "\n",
       "[5 rows x 130 columns]"
      ]
     },
     "execution_count": 17,
     "metadata": {},
     "output_type": "execute_result"
    }
   ],
   "source": [
    "#데이터 프레임 상 타겟변수 제거\n",
    "df.drop(['Satify'],axis=1,inplace=True)\n",
    "df.drop(['revisit'],axis=1,inplace=True)\n",
    "df.drop(['recommend'],axis=1,inplace=True)\n",
    "df.head()"
   ]
  },
  {
   "cell_type": "code",
   "execution_count": 19,
   "metadata": {},
   "outputs": [
    {
     "data": {
      "text/plain": [
       "0.747595924973817"
      ]
     },
     "execution_count": 19,
     "metadata": {},
     "output_type": "execute_result"
    }
   ],
   "source": [
    "#타겟변수 분포 확인\n",
    "sum(point2)/len(point2)"
   ]
  },
  {
   "cell_type": "code",
   "execution_count": 21,
   "metadata": {},
   "outputs": [
    {
     "data": {
      "text/plain": [
       "0.7476196521518345"
      ]
     },
     "execution_count": 21,
     "metadata": {},
     "output_type": "execute_result"
    }
   ],
   "source": [
    "#훈련용 데이터셋, 시험 데이터셋 설정\n",
    "X_train, X_test, y_train, y_test = train_test_split(df, point2, random_state=42, stratify = point2)\n",
    "#훈련용 데이터셋 타겟변수 분포 확인\n",
    "sum(y_train)/len(y_train)"
   ]
  },
  {
   "cell_type": "code",
   "execution_count": 22,
   "metadata": {},
   "outputs": [
    {
     "data": {
      "text/plain": [
       "0.7475247524752475"
      ]
     },
     "execution_count": 22,
     "metadata": {},
     "output_type": "execute_result"
    }
   ],
   "source": [
    "#시험 데이터셋 타겟변수 분포 확인\n",
    "sum(y_test)/len(y_test)"
   ]
  },
  {
   "cell_type": "code",
   "execution_count": 23,
   "metadata": {
    "scrolled": true
   },
   "outputs": [
    {
     "name": "stdout",
     "output_type": "stream",
     "text": [
      "[0]\tvalidation_0-mae:0.41405\n",
      "Will train until validation_0-mae hasn't improved in 10 rounds.\n",
      "[1]\tvalidation_0-mae:0.35591\n",
      "[2]\tvalidation_0-mae:0.31403\n",
      "[3]\tvalidation_0-mae:0.28418\n",
      "[4]\tvalidation_0-mae:0.26171\n",
      "[5]\tvalidation_0-mae:0.24619\n",
      "[6]\tvalidation_0-mae:0.23469\n",
      "[7]\tvalidation_0-mae:0.22617\n",
      "[8]\tvalidation_0-mae:0.21927\n",
      "[9]\tvalidation_0-mae:0.21479\n",
      "[10]\tvalidation_0-mae:0.21127\n",
      "[11]\tvalidation_0-mae:0.20847\n",
      "[12]\tvalidation_0-mae:0.20640\n",
      "[13]\tvalidation_0-mae:0.20444\n",
      "[14]\tvalidation_0-mae:0.20347\n",
      "[15]\tvalidation_0-mae:0.20220\n",
      "[16]\tvalidation_0-mae:0.20091\n",
      "[17]\tvalidation_0-mae:0.19963\n",
      "[18]\tvalidation_0-mae:0.19914\n",
      "[19]\tvalidation_0-mae:0.19830\n",
      "[20]\tvalidation_0-mae:0.19764\n",
      "[21]\tvalidation_0-mae:0.19728\n",
      "[22]\tvalidation_0-mae:0.19692\n",
      "[23]\tvalidation_0-mae:0.19671\n",
      "[24]\tvalidation_0-mae:0.19653\n",
      "[25]\tvalidation_0-mae:0.19450\n",
      "[26]\tvalidation_0-mae:0.19383\n",
      "[27]\tvalidation_0-mae:0.19342\n",
      "[28]\tvalidation_0-mae:0.19323\n",
      "[29]\tvalidation_0-mae:0.19302\n",
      "[30]\tvalidation_0-mae:0.19248\n",
      "[31]\tvalidation_0-mae:0.19151\n",
      "[32]\tvalidation_0-mae:0.19114\n",
      "[33]\tvalidation_0-mae:0.19074\n",
      "[34]\tvalidation_0-mae:0.19037\n",
      "[35]\tvalidation_0-mae:0.18996\n",
      "[36]\tvalidation_0-mae:0.18922\n",
      "[37]\tvalidation_0-mae:0.18856\n",
      "[38]\tvalidation_0-mae:0.18857\n",
      "[39]\tvalidation_0-mae:0.18835\n",
      "[40]\tvalidation_0-mae:0.18744\n",
      "[41]\tvalidation_0-mae:0.18692\n",
      "[42]\tvalidation_0-mae:0.18659\n",
      "[43]\tvalidation_0-mae:0.18627\n",
      "[44]\tvalidation_0-mae:0.18610\n",
      "[45]\tvalidation_0-mae:0.18585\n",
      "[46]\tvalidation_0-mae:0.18562\n",
      "[47]\tvalidation_0-mae:0.18493\n",
      "[48]\tvalidation_0-mae:0.18474\n",
      "[49]\tvalidation_0-mae:0.18450\n",
      "[50]\tvalidation_0-mae:0.18428\n",
      "[51]\tvalidation_0-mae:0.18332\n",
      "[52]\tvalidation_0-mae:0.18330\n",
      "[53]\tvalidation_0-mae:0.18286\n",
      "[54]\tvalidation_0-mae:0.18268\n",
      "[55]\tvalidation_0-mae:0.18266\n",
      "[56]\tvalidation_0-mae:0.18251\n",
      "[57]\tvalidation_0-mae:0.18217\n",
      "[58]\tvalidation_0-mae:0.18216\n",
      "[59]\tvalidation_0-mae:0.18189\n",
      "[60]\tvalidation_0-mae:0.18155\n",
      "[61]\tvalidation_0-mae:0.18122\n",
      "[62]\tvalidation_0-mae:0.18108\n",
      "[63]\tvalidation_0-mae:0.18085\n",
      "[64]\tvalidation_0-mae:0.18070\n",
      "[65]\tvalidation_0-mae:0.18036\n",
      "[66]\tvalidation_0-mae:0.18004\n",
      "[67]\tvalidation_0-mae:0.17973\n",
      "[68]\tvalidation_0-mae:0.17922\n",
      "[69]\tvalidation_0-mae:0.17903\n",
      "[70]\tvalidation_0-mae:0.17891\n",
      "[71]\tvalidation_0-mae:0.17855\n",
      "[72]\tvalidation_0-mae:0.17815\n",
      "[73]\tvalidation_0-mae:0.17728\n",
      "[74]\tvalidation_0-mae:0.17710\n",
      "[75]\tvalidation_0-mae:0.17680\n",
      "[76]\tvalidation_0-mae:0.17672\n",
      "[77]\tvalidation_0-mae:0.17650\n",
      "[78]\tvalidation_0-mae:0.17605\n",
      "[79]\tvalidation_0-mae:0.17573\n",
      "[80]\tvalidation_0-mae:0.17522\n",
      "[81]\tvalidation_0-mae:0.17494\n",
      "[82]\tvalidation_0-mae:0.17473\n",
      "[83]\tvalidation_0-mae:0.17439\n",
      "[84]\tvalidation_0-mae:0.17426\n",
      "[85]\tvalidation_0-mae:0.17409\n",
      "[86]\tvalidation_0-mae:0.17393\n",
      "[87]\tvalidation_0-mae:0.17366\n",
      "[88]\tvalidation_0-mae:0.17319\n",
      "[89]\tvalidation_0-mae:0.17288\n",
      "[90]\tvalidation_0-mae:0.17230\n",
      "[91]\tvalidation_0-mae:0.17216\n",
      "[92]\tvalidation_0-mae:0.17243\n",
      "[93]\tvalidation_0-mae:0.17172\n",
      "[94]\tvalidation_0-mae:0.17089\n",
      "[95]\tvalidation_0-mae:0.17060\n",
      "[96]\tvalidation_0-mae:0.17023\n",
      "[97]\tvalidation_0-mae:0.17011\n",
      "[98]\tvalidation_0-mae:0.16956\n",
      "[99]\tvalidation_0-mae:0.16925\n"
     ]
    },
    {
     "data": {
      "text/plain": [
       "XGBClassifier(base_score=0.5, booster='gbtree', colsample_bylevel=1,\n",
       "              colsample_bynode=1, colsample_bytree=1, gamma=0, gpu_id=-1,\n",
       "              importance_type='gain', interaction_constraints='',\n",
       "              learning_rate=0.300000012, max_delta_step=0, max_depth=6,\n",
       "              min_child_weight=1, missing=None, monotone_constraints='()',\n",
       "              n_estimators=100, n_jobs=0, num_parallel_tree=1, random_state=42,\n",
       "              reg_alpha=0, reg_lambda=1, scale_pos_weight=1, seed=42,\n",
       "              subsample=1, tree_method='exact', validate_parameters=1,\n",
       "              verbosity=None)"
      ]
     },
     "execution_count": 23,
     "metadata": {},
     "output_type": "execute_result"
    }
   ],
   "source": [
    "#모델링(기준:'mae')\n",
    "clf_xgb = xgb.XGBClassifier(objective='binary:logistic', missing=None, seed=42)\n",
    "clf_xgb.fit(X_train,\n",
    "           y_train,\n",
    "           verbose=True,\n",
    "           early_stopping_rounds=10,\n",
    "           eval_metric='mae',\n",
    "           eval_set=[(X_test, y_test)])"
   ]
  },
  {
   "cell_type": "code",
   "execution_count": 24,
   "metadata": {
    "scrolled": true
   },
   "outputs": [
    {
     "data": {
      "text/plain": [
       "<sklearn.metrics._plot.confusion_matrix.ConfusionMatrixDisplay at 0x260217cdd90>"
      ]
     },
     "execution_count": 24,
     "metadata": {},
     "output_type": "execute_result"
    },
    {
     "data": {
      "image/png": "[encoded data removed]",
      "text/plain": [
       "<Figure size 432x288 with 2 Axes>"
      ]
     },
     "metadata": {
      "needs_background": "light"
     },
     "output_type": "display_data"
    }
   ],
   "source": [
    "#모델 시각화(by.confusion matrix)\n",
    "plot_confusion_matrix(clf_xgb,\n",
    "                     X_test,\n",
    "                     y_test,\n",
    "                     values_format='d',\n",
    "                     display_labels=[\"Not satisfied\", \"Satisfied\"])"
   ]
  },
  {
   "cell_type": "code",
   "execution_count": 25,
   "metadata": {},
   "outputs": [
    {
     "name": "stdout",
     "output_type": "stream",
     "text": [
      "[0]\tvalidation_0-aucpr:0.89005\n",
      "Will train until validation_0-aucpr hasn't improved in 10 rounds.\n",
      "[1]\tvalidation_0-aucpr:0.90335\n",
      "[2]\tvalidation_0-aucpr:0.90453\n",
      "[3]\tvalidation_0-aucpr:0.90526\n",
      "[4]\tvalidation_0-aucpr:0.91366\n",
      "[5]\tvalidation_0-aucpr:0.91198\n",
      "[6]\tvalidation_0-aucpr:0.91500\n",
      "[7]\tvalidation_0-aucpr:0.91685\n",
      "[8]\tvalidation_0-aucpr:0.91876\n",
      "[9]\tvalidation_0-aucpr:0.91622\n",
      "[10]\tvalidation_0-aucpr:0.91799\n",
      "[11]\tvalidation_0-aucpr:0.91947\n",
      "[12]\tvalidation_0-aucpr:0.91910\n",
      "[13]\tvalidation_0-aucpr:0.92215\n",
      "[14]\tvalidation_0-aucpr:0.92291\n",
      "[15]\tvalidation_0-aucpr:0.92202\n",
      "[16]\tvalidation_0-aucpr:0.92147\n",
      "[17]\tvalidation_0-aucpr:0.92237\n",
      "[18]\tvalidation_0-aucpr:0.92215\n",
      "[19]\tvalidation_0-aucpr:0.92273\n",
      "[20]\tvalidation_0-aucpr:0.92254\n",
      "[21]\tvalidation_0-aucpr:0.92122\n",
      "[22]\tvalidation_0-aucpr:0.92200\n",
      "[23]\tvalidation_0-aucpr:0.91994\n",
      "[24]\tvalidation_0-aucpr:0.92079\n",
      "Stopping. Best iteration:\n",
      "[14]\tvalidation_0-aucpr:0.92291\n",
      "\n"
     ]
    },
    {
     "data": {
      "text/plain": [
       "XGBClassifier(base_score=0.5, booster='gbtree', colsample_bylevel=1,\n",
       "              colsample_bynode=1, colsample_bytree=1, gamma=0, gpu_id=-1,\n",
       "              importance_type='gain', interaction_constraints='',\n",
       "              learning_rate=0.300000012, max_delta_step=0, max_depth=6,\n",
       "              min_child_weight=1, missing=None, monotone_constraints='()',\n",
       "              n_estimators=100, n_jobs=0, num_parallel_tree=1, random_state=42,\n",
       "              reg_alpha=0, reg_lambda=1, scale_pos_weight=1, seed=42,\n",
       "              subsample=1, tree_method='exact', validate_parameters=1,\n",
       "              verbosity=None)"
      ]
     },
     "execution_count": 25,
     "metadata": {},
     "output_type": "execute_result"
    }
   ],
   "source": [
    "#모델링(기준:'AUC')\n",
    "clf_xgb = xgb.XGBClassifier(objective='binary:logistic', missing=None, seed=42)\n",
    "clf_xgb.fit(X_train,\n",
    "           y_train,\n",
    "           verbose=True,\n",
    "           early_stopping_rounds=10,\n",
    "           eval_metric='aucpr',\n",
    "           eval_set=[(X_test, y_test)])"
   ]
  },
  {
   "cell_type": "code",
   "execution_count": 26,
   "metadata": {},
   "outputs": [
    {
     "data": {
      "text/plain": [
       "<sklearn.metrics._plot.confusion_matrix.ConfusionMatrixDisplay at 0x26019770a00>"
      ]
     },
     "execution_count": 26,
     "metadata": {},
     "output_type": "execute_result"
    },
    {
     "data": {
      "image/png": "[encoded data removed]",
      "text/plain": [
       "<Figure size 432x288 with 2 Axes>"
      ]
     },
     "metadata": {
      "needs_background": "light"
     },
     "output_type": "display_data"
    }
   ],
   "source": [
    "#모델 시각화(by.confusion matrix)\n",
    "plot_confusion_matrix(clf_xgb,\n",
    "                     X_test,\n",
    "                     y_test,\n",
    "                     values_format='d',\n",
    "                     display_labels=[\"Not satisfied\", \"Satisfied\"])"
   ]
  },
  {
   "cell_type": "code",
   "execution_count": 28,
   "metadata": {},
   "outputs": [
    {
     "name": "stdout",
     "output_type": "stream",
     "text": [
      "[18:57:22] WARNING: C:\\Users\\Administrator\\workspace\\xgboost-win64_release_1.2.0\\src\\learner.cc:516: \n",
      "Parameters: { learn_rate } might not be used.\n",
      "\n",
      "  This may not be accurate due to some parameters are only used in language bindings but\n",
      "  passed down to XGBoost core.  Or some parameters are not used but slip through this\n",
      "  verification. Please open an issue if you find above cases.\n",
      "\n",
      "\n",
      "[0]\tvalidation_0-aucpr:0.85833\n",
      "Will train until validation_0-aucpr hasn't improved in 10 rounds.\n",
      "[1]\tvalidation_0-aucpr:0.88055\n",
      "[2]\tvalidation_0-aucpr:0.88144\n",
      "[3]\tvalidation_0-aucpr:0.88621\n",
      "[4]\tvalidation_0-aucpr:0.88679\n",
      "[5]\tvalidation_0-aucpr:0.89834\n",
      "[6]\tvalidation_0-aucpr:0.90510\n",
      "[7]\tvalidation_0-aucpr:0.91021\n",
      "[8]\tvalidation_0-aucpr:0.90685\n",
      "[9]\tvalidation_0-aucpr:0.90828\n",
      "[10]\tvalidation_0-aucpr:0.90937\n",
      "[11]\tvalidation_0-aucpr:0.90823\n",
      "[12]\tvalidation_0-aucpr:0.91286\n",
      "[13]\tvalidation_0-aucpr:0.91292\n",
      "[14]\tvalidation_0-aucpr:0.91038\n",
      "[15]\tvalidation_0-aucpr:0.91500\n",
      "[16]\tvalidation_0-aucpr:0.91202\n",
      "[17]\tvalidation_0-aucpr:0.91240\n",
      "[18]\tvalidation_0-aucpr:0.91264\n",
      "[19]\tvalidation_0-aucpr:0.91315\n",
      "[20]\tvalidation_0-aucpr:0.91305\n",
      "[21]\tvalidation_0-aucpr:0.91277\n",
      "[22]\tvalidation_0-aucpr:0.91519\n",
      "[23]\tvalidation_0-aucpr:0.91362\n",
      "[24]\tvalidation_0-aucpr:0.91623\n",
      "[25]\tvalidation_0-aucpr:0.91659\n",
      "[26]\tvalidation_0-aucpr:0.91504\n",
      "[27]\tvalidation_0-aucpr:0.91618\n",
      "[28]\tvalidation_0-aucpr:0.91513\n",
      "[29]\tvalidation_0-aucpr:0.91654\n",
      "[30]\tvalidation_0-aucpr:0.91729\n",
      "[31]\tvalidation_0-aucpr:0.91729\n",
      "[32]\tvalidation_0-aucpr:0.91773\n",
      "[33]\tvalidation_0-aucpr:0.91588\n",
      "[34]\tvalidation_0-aucpr:0.91618\n",
      "[35]\tvalidation_0-aucpr:0.91618\n",
      "[36]\tvalidation_0-aucpr:0.91602\n",
      "[37]\tvalidation_0-aucpr:0.91724\n",
      "[38]\tvalidation_0-aucpr:0.91641\n",
      "[39]\tvalidation_0-aucpr:0.91729\n",
      "[40]\tvalidation_0-aucpr:0.91714\n",
      "[41]\tvalidation_0-aucpr:0.91827\n",
      "[42]\tvalidation_0-aucpr:0.91895\n",
      "[43]\tvalidation_0-aucpr:0.91889\n",
      "[44]\tvalidation_0-aucpr:0.91971\n",
      "[45]\tvalidation_0-aucpr:0.91994\n",
      "[46]\tvalidation_0-aucpr:0.91974\n",
      "[47]\tvalidation_0-aucpr:0.92018\n",
      "[48]\tvalidation_0-aucpr:0.92028\n",
      "[49]\tvalidation_0-aucpr:0.92060\n",
      "[50]\tvalidation_0-aucpr:0.92122\n",
      "[51]\tvalidation_0-aucpr:0.92109\n",
      "[52]\tvalidation_0-aucpr:0.92178\n",
      "[53]\tvalidation_0-aucpr:0.92148\n",
      "[54]\tvalidation_0-aucpr:0.92098\n",
      "[55]\tvalidation_0-aucpr:0.92045\n",
      "[56]\tvalidation_0-aucpr:0.92049\n",
      "[57]\tvalidation_0-aucpr:0.92108\n",
      "[58]\tvalidation_0-aucpr:0.92086\n",
      "[59]\tvalidation_0-aucpr:0.92062\n",
      "[60]\tvalidation_0-aucpr:0.92070\n",
      "[61]\tvalidation_0-aucpr:0.91983\n",
      "[62]\tvalidation_0-aucpr:0.92034\n",
      "Stopping. Best iteration:\n",
      "[52]\tvalidation_0-aucpr:0.92178\n",
      "\n"
     ]
    },
    {
     "data": {
      "text/plain": [
       "XGBClassifier(base_score=0.5, booster='gbtree', colsample_bylevel=1,\n",
       "              colsample_bynode=1, colsample_bytree=0.5, gamma=0.25, gpu_id=-1,\n",
       "              importance_type='gain', interaction_constraints='',\n",
       "              learn_rate=0.1, learning_rate=0.300000012, max_delta_step=0,\n",
       "              max_depth=4, min_child_weight=1, missing=nan,\n",
       "              monotone_constraints='()', n_estimators=100, n_jobs=0,\n",
       "              num_parallel_tree=1, random_state=42, reg_alpha=0, reg_lambda=10,\n",
       "              scale_pos_weight=3, seed=42, subsample=0.9, tree_method='exact',\n",
       "              validate_parameters=1, verbosity=None)"
      ]
     },
     "execution_count": 28,
     "metadata": {},
     "output_type": "execute_result"
    }
   ],
   "source": [
    "clf_xgb = xgb.XGBClassifier(seed=42,\n",
    "                          objective='binary:logistic',\n",
    "                          gamma=0.25,\n",
    "                          learn_rate=0.1,\n",
    "                          max_depth=4,\n",
    "                          reg_lambda=10,\n",
    "                          scale_pos_weight=3,\n",
    "                          subsample=0.9,\n",
    "                          colsample_bytree=0.5)\n",
    "clf_xgb.fit(X_train,\n",
    "           y_train,\n",
    "           verbose=True,\n",
    "           early_stopping_rounds=10,\n",
    "           eval_metric='aucpr',\n",
    "           eval_set=[(X_test, y_test)])"
   ]
  },
  {
   "cell_type": "code",
   "execution_count": 29,
   "metadata": {},
   "outputs": [
    {
     "data": {
      "text/plain": [
       "<sklearn.metrics._plot.confusion_matrix.ConfusionMatrixDisplay at 0x2602534cf10>"
      ]
     },
     "execution_count": 29,
     "metadata": {},
     "output_type": "execute_result"
    },
    {
     "data": {
      "image/png": "[encoded data removed]",
      "text/plain": [
       "<Figure size 432x288 with 2 Axes>"
      ]
     },
     "metadata": {
      "needs_background": "light"
     },
     "output_type": "display_data"
    }
   ],
   "source": [
    "#모델 시각화(by.confusion matrix)\n",
    "plot_confusion_matrix(clf_xgb,\n",
    "                     X_test,\n",
    "                     y_test,\n",
    "                     values_format='d',\n",
    "                     display_labels=[\"Not satisfied\", \"Satisfied\"])"
   ]
  },
  {
   "cell_type": "code",
   "execution_count": 40,
   "metadata": {},
   "outputs": [
    {
     "name": "stdout",
     "output_type": "stream",
     "text": [
      "[19:43:07] WARNING: C:\\Users\\Administrator\\workspace\\xgboost-win64_release_1.2.0\\src\\learner.cc:516: \n",
      "Parameters: { learn_rate } might not be used.\n",
      "\n",
      "  This may not be accurate due to some parameters are only used in language bindings but\n",
      "  passed down to XGBoost core.  Or some parameters are not used but slip through this\n",
      "  verification. Please open an issue if you find above cases.\n",
      "\n",
      "\n",
      "weight:  {'select_reason': 1, 'companion_num': 1, 'accom_cost': 1}\n",
      "gain:  {'select_reason': 3067.11133, 'companion_num': 2.22167969, 'accom_cost': 2.22265625}\n",
      "cover:  {'select_reason': 4428.25, 'companion_num': 4199.75, 'accom_cost': 4198.5}\n",
      "total_gain:  {'select_reason': 3067.11133, 'companion_num': 2.22167969, 'accom_cost': 2.22265625}\n",
      "total_cover:  {'select_reason': 4428.25, 'companion_num': 4199.75, 'accom_cost': 4198.5}\n"
     ]
    }
   ],
   "source": [
    "#첫 트리만을 조사하여 적절한 gain, gamma 등에 대한 인사이트를 얻어보기\n",
    "clf_xgb = xgb.XGBClassifier(seed=42,\n",
    "                          objective='binary:logistic',\n",
    "                          gamma=0.25,\n",
    "                          learn_rate=0.1,\n",
    "                          max_depth=4,\n",
    "                          reg_lambda=10,\n",
    "                          scale_pos_weight=3,\n",
    "                          subsample=0.9,\n",
    "                          colsample_bytree=0.5,\n",
    "                           n_estimators=1) # 하나의 첫 트리로 고정\n",
    "clf_xgb.fit(X_train,y_train)\n",
    "\n",
    "#첫 트리의 weight, gain, cover 뽑아보기\n",
    "\n",
    "bst = clf_xgb.get_booster()\n",
    "for importance_type in ('weight', 'gain', 'cover', 'total_gain', 'total_cover'):\n",
    "    print('%s: ' % importance_type, bst.get_score(importance_type=importance_type))\n",
    "    \n",
    "node_params = {'shape': 'box',\n",
    "              'style': 'filled, rounded',\n",
    "              'fillcolor': '#78cbe'}\n",
    "leaf_params = {'shape' : 'box',\n",
    "              'style': 'filled',\n",
    "               'fillcolor': '#e48038'}\n"
   ]
  },
  {
   "cell_type": "code",
   "execution_count": 43,
   "metadata": {},
   "outputs": [],
   "source": [
    "import graphviz"
   ]
  },
  {
   "cell_type": "code",
   "execution_count": 47,
   "metadata": {
    "scrolled": false
   },
   "outputs": [
    {
     "ename": "ExecutableNotFound",
     "evalue": "failed to execute ['dot', '-Tsvg'], make sure the Graphviz executables are on your systems' PATH",
     "output_type": "error",
     "traceback": [
      "\u001b[1;31m---------------------------------------------------------------------------\u001b[0m",
      "\u001b[1;31mFileNotFoundError\u001b[0m                         Traceback (most recent call last)",
      "\u001b[1;32m~\\anaconda3\\lib\\site-packages\\graphviz\\backend.py\u001b[0m in \u001b[0;36mrun\u001b[1;34m(cmd, input, capture_output, check, encoding, quiet, **kwargs)\u001b[0m\n\u001b[0;32m    163\u001b[0m     \u001b[1;32mtry\u001b[0m\u001b[1;33m:\u001b[0m\u001b[1;33m\u001b[0m\u001b[1;33m\u001b[0m\u001b[0m\n\u001b[1;32m--> 164\u001b[1;33m         \u001b[0mproc\u001b[0m \u001b[1;33m=\u001b[0m \u001b[0msubprocess\u001b[0m\u001b[1;33m.\u001b[0m\u001b[0mPopen\u001b[0m\u001b[1;33m(\u001b[0m\u001b[0mcmd\u001b[0m\u001b[1;33m,\u001b[0m \u001b[0mstartupinfo\u001b[0m\u001b[1;33m=\u001b[0m\u001b[0mget_startupinfo\u001b[0m\u001b[1;33m(\u001b[0m\u001b[1;33m)\u001b[0m\u001b[1;33m,\u001b[0m \u001b[1;33m**\u001b[0m\u001b[0mkwargs\u001b[0m\u001b[1;33m)\u001b[0m\u001b[1;33m\u001b[0m\u001b[1;33m\u001b[0m\u001b[0m\n\u001b[0m\u001b[0;32m    165\u001b[0m     \u001b[1;32mexcept\u001b[0m \u001b[0mOSError\u001b[0m \u001b[1;32mas\u001b[0m \u001b[0me\u001b[0m\u001b[1;33m:\u001b[0m\u001b[1;33m\u001b[0m\u001b[1;33m\u001b[0m\u001b[0m\n",
      "\u001b[1;32m~\\anaconda3\\lib\\subprocess.py\u001b[0m in \u001b[0;36m__init__\u001b[1;34m(self, args, bufsize, executable, stdin, stdout, stderr, preexec_fn, close_fds, shell, cwd, env, universal_newlines, startupinfo, creationflags, restore_signals, start_new_session, pass_fds, encoding, errors, text)\u001b[0m\n\u001b[0;32m    853\u001b[0m \u001b[1;33m\u001b[0m\u001b[0m\n\u001b[1;32m--> 854\u001b[1;33m             self._execute_child(args, executable, preexec_fn, close_fds,\n\u001b[0m\u001b[0;32m    855\u001b[0m                                 \u001b[0mpass_fds\u001b[0m\u001b[1;33m,\u001b[0m \u001b[0mcwd\u001b[0m\u001b[1;33m,\u001b[0m \u001b[0menv\u001b[0m\u001b[1;33m,\u001b[0m\u001b[1;33m\u001b[0m\u001b[1;33m\u001b[0m\u001b[0m\n",
      "\u001b[1;32m~\\anaconda3\\lib\\subprocess.py\u001b[0m in \u001b[0;36m_execute_child\u001b[1;34m(self, args, executable, preexec_fn, close_fds, pass_fds, cwd, env, startupinfo, creationflags, shell, p2cread, p2cwrite, c2pread, c2pwrite, errread, errwrite, unused_restore_signals, unused_start_new_session)\u001b[0m\n\u001b[0;32m   1306\u001b[0m             \u001b[1;32mtry\u001b[0m\u001b[1;33m:\u001b[0m\u001b[1;33m\u001b[0m\u001b[1;33m\u001b[0m\u001b[0m\n\u001b[1;32m-> 1307\u001b[1;33m                 hp, ht, pid, tid = _winapi.CreateProcess(executable, args,\n\u001b[0m\u001b[0;32m   1308\u001b[0m                                          \u001b[1;31m# no special security\u001b[0m\u001b[1;33m\u001b[0m\u001b[1;33m\u001b[0m\u001b[1;33m\u001b[0m\u001b[0m\n",
      "\u001b[1;31mFileNotFoundError\u001b[0m: [WinError 2] 지정된 파일을 찾을 수 없습니다",
      "\nDuring handling of the above exception, another exception occurred:\n",
      "\u001b[1;31mExecutableNotFound\u001b[0m                        Traceback (most recent call last)",
      "\u001b[1;32m~\\anaconda3\\lib\\site-packages\\IPython\\core\\formatters.py\u001b[0m in \u001b[0;36m__call__\u001b[1;34m(self, obj)\u001b[0m\n\u001b[0;32m    343\u001b[0m             \u001b[0mmethod\u001b[0m \u001b[1;33m=\u001b[0m \u001b[0mget_real_method\u001b[0m\u001b[1;33m(\u001b[0m\u001b[0mobj\u001b[0m\u001b[1;33m,\u001b[0m \u001b[0mself\u001b[0m\u001b[1;33m.\u001b[0m\u001b[0mprint_method\u001b[0m\u001b[1;33m)\u001b[0m\u001b[1;33m\u001b[0m\u001b[1;33m\u001b[0m\u001b[0m\n\u001b[0;32m    344\u001b[0m             \u001b[1;32mif\u001b[0m \u001b[0mmethod\u001b[0m \u001b[1;32mis\u001b[0m \u001b[1;32mnot\u001b[0m \u001b[1;32mNone\u001b[0m\u001b[1;33m:\u001b[0m\u001b[1;33m\u001b[0m\u001b[1;33m\u001b[0m\u001b[0m\n\u001b[1;32m--> 345\u001b[1;33m                 \u001b[1;32mreturn\u001b[0m \u001b[0mmethod\u001b[0m\u001b[1;33m(\u001b[0m\u001b[1;33m)\u001b[0m\u001b[1;33m\u001b[0m\u001b[1;33m\u001b[0m\u001b[0m\n\u001b[0m\u001b[0;32m    346\u001b[0m             \u001b[1;32mreturn\u001b[0m \u001b[1;32mNone\u001b[0m\u001b[1;33m\u001b[0m\u001b[1;33m\u001b[0m\u001b[0m\n\u001b[0;32m    347\u001b[0m         \u001b[1;32melse\u001b[0m\u001b[1;33m:\u001b[0m\u001b[1;33m\u001b[0m\u001b[1;33m\u001b[0m\u001b[0m\n",
      "\u001b[1;32m~\\anaconda3\\lib\\site-packages\\graphviz\\files.py\u001b[0m in \u001b[0;36m_repr_svg_\u001b[1;34m(self)\u001b[0m\n\u001b[0;32m    111\u001b[0m \u001b[1;33m\u001b[0m\u001b[0m\n\u001b[0;32m    112\u001b[0m     \u001b[1;32mdef\u001b[0m \u001b[0m_repr_svg_\u001b[0m\u001b[1;33m(\u001b[0m\u001b[0mself\u001b[0m\u001b[1;33m)\u001b[0m\u001b[1;33m:\u001b[0m\u001b[1;33m\u001b[0m\u001b[1;33m\u001b[0m\u001b[0m\n\u001b[1;32m--> 113\u001b[1;33m         \u001b[1;32mreturn\u001b[0m \u001b[0mself\u001b[0m\u001b[1;33m.\u001b[0m\u001b[0mpipe\u001b[0m\u001b[1;33m(\u001b[0m\u001b[0mformat\u001b[0m\u001b[1;33m=\u001b[0m\u001b[1;34m'svg'\u001b[0m\u001b[1;33m)\u001b[0m\u001b[1;33m.\u001b[0m\u001b[0mdecode\u001b[0m\u001b[1;33m(\u001b[0m\u001b[0mself\u001b[0m\u001b[1;33m.\u001b[0m\u001b[0m_encoding\u001b[0m\u001b[1;33m)\u001b[0m\u001b[1;33m\u001b[0m\u001b[1;33m\u001b[0m\u001b[0m\n\u001b[0m\u001b[0;32m    114\u001b[0m \u001b[1;33m\u001b[0m\u001b[0m\n\u001b[0;32m    115\u001b[0m     \u001b[1;32mdef\u001b[0m \u001b[0mpipe\u001b[0m\u001b[1;33m(\u001b[0m\u001b[0mself\u001b[0m\u001b[1;33m,\u001b[0m \u001b[0mformat\u001b[0m\u001b[1;33m=\u001b[0m\u001b[1;32mNone\u001b[0m\u001b[1;33m,\u001b[0m \u001b[0mrenderer\u001b[0m\u001b[1;33m=\u001b[0m\u001b[1;32mNone\u001b[0m\u001b[1;33m,\u001b[0m \u001b[0mformatter\u001b[0m\u001b[1;33m=\u001b[0m\u001b[1;32mNone\u001b[0m\u001b[1;33m,\u001b[0m \u001b[0mquiet\u001b[0m\u001b[1;33m=\u001b[0m\u001b[1;32mFalse\u001b[0m\u001b[1;33m)\u001b[0m\u001b[1;33m:\u001b[0m\u001b[1;33m\u001b[0m\u001b[1;33m\u001b[0m\u001b[0m\n",
      "\u001b[1;32m~\\anaconda3\\lib\\site-packages\\graphviz\\files.py\u001b[0m in \u001b[0;36mpipe\u001b[1;34m(self, format, renderer, formatter, quiet)\u001b[0m\n\u001b[0;32m    134\u001b[0m         \u001b[0mdata\u001b[0m \u001b[1;33m=\u001b[0m \u001b[0mtext_type\u001b[0m\u001b[1;33m(\u001b[0m\u001b[0mself\u001b[0m\u001b[1;33m.\u001b[0m\u001b[0msource\u001b[0m\u001b[1;33m)\u001b[0m\u001b[1;33m.\u001b[0m\u001b[0mencode\u001b[0m\u001b[1;33m(\u001b[0m\u001b[0mself\u001b[0m\u001b[1;33m.\u001b[0m\u001b[0m_encoding\u001b[0m\u001b[1;33m)\u001b[0m\u001b[1;33m\u001b[0m\u001b[1;33m\u001b[0m\u001b[0m\n\u001b[0;32m    135\u001b[0m \u001b[1;33m\u001b[0m\u001b[0m\n\u001b[1;32m--> 136\u001b[1;33m         out = backend.pipe(self._engine, format, data,\n\u001b[0m\u001b[0;32m    137\u001b[0m                            \u001b[0mrenderer\u001b[0m\u001b[1;33m=\u001b[0m\u001b[0mrenderer\u001b[0m\u001b[1;33m,\u001b[0m \u001b[0mformatter\u001b[0m\u001b[1;33m=\u001b[0m\u001b[0mformatter\u001b[0m\u001b[1;33m,\u001b[0m\u001b[1;33m\u001b[0m\u001b[1;33m\u001b[0m\u001b[0m\n\u001b[0;32m    138\u001b[0m                            quiet=quiet)\n",
      "\u001b[1;32m~\\anaconda3\\lib\\site-packages\\graphviz\\backend.py\u001b[0m in \u001b[0;36mpipe\u001b[1;34m(engine, format, data, renderer, formatter, quiet)\u001b[0m\n\u001b[0;32m    242\u001b[0m     \"\"\"\n\u001b[0;32m    243\u001b[0m     \u001b[0mcmd\u001b[0m\u001b[1;33m,\u001b[0m \u001b[0m_\u001b[0m \u001b[1;33m=\u001b[0m \u001b[0mcommand\u001b[0m\u001b[1;33m(\u001b[0m\u001b[0mengine\u001b[0m\u001b[1;33m,\u001b[0m \u001b[0mformat\u001b[0m\u001b[1;33m,\u001b[0m \u001b[1;32mNone\u001b[0m\u001b[1;33m,\u001b[0m \u001b[0mrenderer\u001b[0m\u001b[1;33m,\u001b[0m \u001b[0mformatter\u001b[0m\u001b[1;33m)\u001b[0m\u001b[1;33m\u001b[0m\u001b[1;33m\u001b[0m\u001b[0m\n\u001b[1;32m--> 244\u001b[1;33m     \u001b[0mout\u001b[0m\u001b[1;33m,\u001b[0m \u001b[0m_\u001b[0m \u001b[1;33m=\u001b[0m \u001b[0mrun\u001b[0m\u001b[1;33m(\u001b[0m\u001b[0mcmd\u001b[0m\u001b[1;33m,\u001b[0m \u001b[0minput\u001b[0m\u001b[1;33m=\u001b[0m\u001b[0mdata\u001b[0m\u001b[1;33m,\u001b[0m \u001b[0mcapture_output\u001b[0m\u001b[1;33m=\u001b[0m\u001b[1;32mTrue\u001b[0m\u001b[1;33m,\u001b[0m \u001b[0mcheck\u001b[0m\u001b[1;33m=\u001b[0m\u001b[1;32mTrue\u001b[0m\u001b[1;33m,\u001b[0m \u001b[0mquiet\u001b[0m\u001b[1;33m=\u001b[0m\u001b[0mquiet\u001b[0m\u001b[1;33m)\u001b[0m\u001b[1;33m\u001b[0m\u001b[1;33m\u001b[0m\u001b[0m\n\u001b[0m\u001b[0;32m    245\u001b[0m     \u001b[1;32mreturn\u001b[0m \u001b[0mout\u001b[0m\u001b[1;33m\u001b[0m\u001b[1;33m\u001b[0m\u001b[0m\n\u001b[0;32m    246\u001b[0m \u001b[1;33m\u001b[0m\u001b[0m\n",
      "\u001b[1;32m~\\anaconda3\\lib\\site-packages\\graphviz\\backend.py\u001b[0m in \u001b[0;36mrun\u001b[1;34m(cmd, input, capture_output, check, encoding, quiet, **kwargs)\u001b[0m\n\u001b[0;32m    165\u001b[0m     \u001b[1;32mexcept\u001b[0m \u001b[0mOSError\u001b[0m \u001b[1;32mas\u001b[0m \u001b[0me\u001b[0m\u001b[1;33m:\u001b[0m\u001b[1;33m\u001b[0m\u001b[1;33m\u001b[0m\u001b[0m\n\u001b[0;32m    166\u001b[0m         \u001b[1;32mif\u001b[0m \u001b[0me\u001b[0m\u001b[1;33m.\u001b[0m\u001b[0merrno\u001b[0m \u001b[1;33m==\u001b[0m \u001b[0merrno\u001b[0m\u001b[1;33m.\u001b[0m\u001b[0mENOENT\u001b[0m\u001b[1;33m:\u001b[0m\u001b[1;33m\u001b[0m\u001b[1;33m\u001b[0m\u001b[0m\n\u001b[1;32m--> 167\u001b[1;33m             \u001b[1;32mraise\u001b[0m \u001b[0mExecutableNotFound\u001b[0m\u001b[1;33m(\u001b[0m\u001b[0mcmd\u001b[0m\u001b[1;33m)\u001b[0m\u001b[1;33m\u001b[0m\u001b[1;33m\u001b[0m\u001b[0m\n\u001b[0m\u001b[0;32m    168\u001b[0m         \u001b[1;32melse\u001b[0m\u001b[1;33m:\u001b[0m\u001b[1;33m\u001b[0m\u001b[1;33m\u001b[0m\u001b[0m\n\u001b[0;32m    169\u001b[0m             \u001b[1;32mraise\u001b[0m\u001b[1;33m\u001b[0m\u001b[1;33m\u001b[0m\u001b[0m\n",
      "\u001b[1;31mExecutableNotFound\u001b[0m: failed to execute ['dot', '-Tsvg'], make sure the Graphviz executables are on your systems' PATH"
     ]
    },
    {
     "data": {
      "text/plain": [
       "<graphviz.files.Source at 0x260262a0b20>"
      ]
     },
     "execution_count": 47,
     "metadata": {},
     "output_type": "execute_result"
    }
   ],
   "source": [
    "xgb.to_graphviz(clf_xgb, num_trees=0, size=\"10,10\",\n",
    "               condition_node_params=node_params,\n",
    "               leaf_node_params=leaf_params)"
   ]
  },
  {
   "cell_type": "code",
   "execution_count": 45,
   "metadata": {},
   "outputs": [
    {
     "name": "stdout",
     "output_type": "stream",
     "text": [
      "Requirement already satisfied: graphviz in c:\\users\\hon kim\\anaconda3\\lib\\site-packages (0.14.1)\n"
     ]
    }
   ],
   "source": [
    "!pip install graphviz"
   ]
  },
  {
   "cell_type": "code",
   "execution_count": null,
   "metadata": {},
   "outputs": [],
   "source": []
  }
 ],
 "metadata": {
  "kernelspec": {
   "display_name": "Python 3",
   "language": "python",
   "name": "python3"
  },
  "language_info": {
   "codemirror_mode": {
    "name": "ipython",
    "version": 3
   },
   "file_extension": ".py",
   "mimetype": "text/x-python",
   "name": "python",
   "nbconvert_exporter": "python",
   "pygments_lexer": "ipython3",
   "version": "3.8.1"
  }
 },
 "nbformat": 4,
 "nbformat_minor": 4
}
