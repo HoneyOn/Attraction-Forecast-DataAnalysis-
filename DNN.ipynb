{
 "cells": [
  {
   "cell_type": "code",
   "execution_count": 1,
   "metadata": {},
   "outputs": [],
   "source": [
    "import pandas as pd\n",
    "from sklearn.preprocessing import StandardScaler\n",
    "from sklearn.model_selection import train_test_split\n",
    "import keras"
   ]
  },
  {
   "cell_type": "code",
   "execution_count": 2,
   "metadata": {},
   "outputs": [
    {
     "data": {
      "text/plain": [
       "array([0., 2.])"
      ]
     },
     "execution_count": 2,
     "metadata": {},
     "output_type": "execute_result"
    }
   ],
   "source": [
    "#데이터 다운로드\n",
    "df = pd.read_excel(r'C:\\Users\\Hon Kim\\Desktop\\관광통계\\2019년_국민여행조사_원자료\\dfr.xlsx', index = True) #불필요한 열 삭제\n",
    "df.drop(['ID'],axis=1,inplace=True)\n",
    "df.drop(['select_reason_2'],axis=1,inplace=True)\n",
    "df.drop(['select_reason_3'],axis=1,inplace=True)\n",
    "\n",
    "\n",
    "#일부 데이터 정수형변환\n",
    "df['JEJU']=df['JEJU'].astype(int)\n",
    "df['KYUNG_S']=df['KYUNG_S'].astype(int)\n",
    "df['KYUNG_N']=df['KYUNG_N'].astype(int)\n",
    "df['JEON_S']=df['JEON_S'].astype(int)\n",
    "df['JEON_N']=df['JEON_N'].astype(int)\n",
    "df['CHOONG_S']=df['CHOONG_S'].astype(int)\n",
    "df['CHOONG_N']=df['CHOONG_N'].astype(int)\n",
    "df['GANGWON']=df['GANGWON'].astype(int)\n",
    "df['KYUNGGI']=df['KYUNGGI'].astype(int)\n",
    "df['SEJONG']=df['SEJONG'].astype(int)\n",
    "df['ULSAN']=df['ULSAN'].astype(int)\n",
    "df['DAEJEON']=df['DAEJEON'].astype(int)\n",
    "df['GWANGJU']=df['GWANGJU'].astype(int)\n",
    "df['INCHEON']=df['INCHEON'].astype(int)\n",
    "df['DAEGU']=df['DAEGU'].astype(int)\n",
    "df['BUSAN']=df['BUSAN'].astype(int)\n",
    "df['SEOUL']=df['SEOUL'].astype(int)\n",
    "\n",
    "#데이터 구성요소확인\n",
    "df['pre_food'].unique()\n",
    "\n",
    "#결측치 처리\n",
    "df=df.fillna(0)\n",
    "\n",
    "#결측치 처리 확인(multi-hot encoding)\n",
    "df['pre_food'].unique()\n"
   ]
  },
  {
   "cell_type": "code",
   "execution_count": 3,
   "metadata": {},
   "outputs": [
    {
     "data": {
      "text/plain": [
       "7852"
      ]
     },
     "execution_count": 3,
     "metadata": {},
     "output_type": "execute_result"
    }
   ],
   "source": [
    "#만족도, 재방문률, 추천정도 변수를 합쳐\n",
    "#타겟변수설정\n",
    "point = df['Satify']+df['revisit']+df['recommend']\n",
    "\n",
    "#point2 = point >= 15\n",
    "#(point2.values==True).sum()\n",
    "\n",
    "#point2 = point >= 14\n",
    "#(point2.values==True).sum()\n",
    "\n",
    "#point2 = point >= 13\n",
    "#(point2.values==True).sum()\n",
    "\n",
    "point2 = point >= 12\n",
    "(point2.values==True).sum()\n",
    "\n",
    "#point2 = point >= 11\n",
    "#(point2.values==True).sum()\n",
    "\n",
    "#point2 = point >= 10\n",
    "#(point2.values==True).sum()"
   ]
  },
  {
   "cell_type": "code",
   "execution_count": 4,
   "metadata": {},
   "outputs": [
    {
     "data": {
      "text/html": [
       "<div>\n",
       "<style scoped>\n",
       "    .dataframe tbody tr th:only-of-type {\n",
       "        vertical-align: middle;\n",
       "    }\n",
       "\n",
       "    .dataframe tbody tr th {\n",
       "        vertical-align: top;\n",
       "    }\n",
       "\n",
       "    .dataframe thead th {\n",
       "        text-align: right;\n",
       "    }\n",
       "</style>\n",
       "<table border=\"1\" class=\"dataframe\">\n",
       "  <thead>\n",
       "    <tr style=\"text-align: right;\">\n",
       "      <th></th>\n",
       "      <th>visit_count</th>\n",
       "      <th>visit_acq</th>\n",
       "      <th>stay</th>\n",
       "      <th>COST</th>\n",
       "      <th>NUM</th>\n",
       "      <th>per_COST</th>\n",
       "      <th>cost_ski_watering</th>\n",
       "      <th>cost_camping</th>\n",
       "      <th>cost_hiking</th>\n",
       "      <th>cost_fishing</th>\n",
       "      <th>...</th>\n",
       "      <th>earn_self_classify_7</th>\n",
       "      <th>BMAR_1</th>\n",
       "      <th>BMAR_2</th>\n",
       "      <th>BMAR_3</th>\n",
       "      <th>BMAR_4</th>\n",
       "      <th>BMAR_5</th>\n",
       "      <th>winter</th>\n",
       "      <th>spring</th>\n",
       "      <th>summer</th>\n",
       "      <th>autumn</th>\n",
       "    </tr>\n",
       "  </thead>\n",
       "  <tbody>\n",
       "    <tr>\n",
       "      <th>0</th>\n",
       "      <td>4</td>\n",
       "      <td>1</td>\n",
       "      <td>1</td>\n",
       "      <td>100000.0</td>\n",
       "      <td>1</td>\n",
       "      <td>100000.0</td>\n",
       "      <td>0.0</td>\n",
       "      <td>0.0</td>\n",
       "      <td>0.0</td>\n",
       "      <td>0.0</td>\n",
       "      <td>...</td>\n",
       "      <td>0</td>\n",
       "      <td>0</td>\n",
       "      <td>1</td>\n",
       "      <td>0</td>\n",
       "      <td>0</td>\n",
       "      <td>0</td>\n",
       "      <td>0</td>\n",
       "      <td>0</td>\n",
       "      <td>1</td>\n",
       "      <td>0</td>\n",
       "    </tr>\n",
       "    <tr>\n",
       "      <th>1</th>\n",
       "      <td>3</td>\n",
       "      <td>1</td>\n",
       "      <td>1</td>\n",
       "      <td>250000.0</td>\n",
       "      <td>1</td>\n",
       "      <td>250000.0</td>\n",
       "      <td>0.0</td>\n",
       "      <td>0.0</td>\n",
       "      <td>0.0</td>\n",
       "      <td>0.0</td>\n",
       "      <td>...</td>\n",
       "      <td>0</td>\n",
       "      <td>0</td>\n",
       "      <td>1</td>\n",
       "      <td>0</td>\n",
       "      <td>0</td>\n",
       "      <td>0</td>\n",
       "      <td>0</td>\n",
       "      <td>1</td>\n",
       "      <td>0</td>\n",
       "      <td>0</td>\n",
       "    </tr>\n",
       "    <tr>\n",
       "      <th>2</th>\n",
       "      <td>3</td>\n",
       "      <td>1</td>\n",
       "      <td>0</td>\n",
       "      <td>50001.0</td>\n",
       "      <td>3</td>\n",
       "      <td>16667.0</td>\n",
       "      <td>0.0</td>\n",
       "      <td>0.0</td>\n",
       "      <td>0.0</td>\n",
       "      <td>0.0</td>\n",
       "      <td>...</td>\n",
       "      <td>0</td>\n",
       "      <td>1</td>\n",
       "      <td>0</td>\n",
       "      <td>0</td>\n",
       "      <td>0</td>\n",
       "      <td>0</td>\n",
       "      <td>0</td>\n",
       "      <td>1</td>\n",
       "      <td>0</td>\n",
       "      <td>0</td>\n",
       "    </tr>\n",
       "    <tr>\n",
       "      <th>3</th>\n",
       "      <td>3</td>\n",
       "      <td>1</td>\n",
       "      <td>1</td>\n",
       "      <td>120000.0</td>\n",
       "      <td>1</td>\n",
       "      <td>120000.0</td>\n",
       "      <td>0.0</td>\n",
       "      <td>0.0</td>\n",
       "      <td>0.0</td>\n",
       "      <td>0.0</td>\n",
       "      <td>...</td>\n",
       "      <td>0</td>\n",
       "      <td>0</td>\n",
       "      <td>1</td>\n",
       "      <td>0</td>\n",
       "      <td>0</td>\n",
       "      <td>0</td>\n",
       "      <td>0</td>\n",
       "      <td>0</td>\n",
       "      <td>0</td>\n",
       "      <td>1</td>\n",
       "    </tr>\n",
       "    <tr>\n",
       "      <th>4</th>\n",
       "      <td>2</td>\n",
       "      <td>1</td>\n",
       "      <td>2</td>\n",
       "      <td>350001.0</td>\n",
       "      <td>3</td>\n",
       "      <td>116667.0</td>\n",
       "      <td>0.0</td>\n",
       "      <td>0.0</td>\n",
       "      <td>0.0</td>\n",
       "      <td>0.0</td>\n",
       "      <td>...</td>\n",
       "      <td>0</td>\n",
       "      <td>0</td>\n",
       "      <td>1</td>\n",
       "      <td>0</td>\n",
       "      <td>0</td>\n",
       "      <td>0</td>\n",
       "      <td>0</td>\n",
       "      <td>0</td>\n",
       "      <td>1</td>\n",
       "      <td>0</td>\n",
       "    </tr>\n",
       "  </tbody>\n",
       "</table>\n",
       "<p>5 rows × 333 columns</p>\n",
       "</div>"
      ],
      "text/plain": [
       "   visit_count  visit_acq  stay      COST  NUM  per_COST  cost_ski_watering  \\\n",
       "0            4          1     1  100000.0    1  100000.0                0.0   \n",
       "1            3          1     1  250000.0    1  250000.0                0.0   \n",
       "2            3          1     0   50001.0    3   16667.0                0.0   \n",
       "3            3          1     1  120000.0    1  120000.0                0.0   \n",
       "4            2          1     2  350001.0    3  116667.0                0.0   \n",
       "\n",
       "   cost_camping  cost_hiking  cost_fishing  ...  earn_self_classify_7  BMAR_1  \\\n",
       "0           0.0          0.0           0.0  ...                     0       0   \n",
       "1           0.0          0.0           0.0  ...                     0       0   \n",
       "2           0.0          0.0           0.0  ...                     0       1   \n",
       "3           0.0          0.0           0.0  ...                     0       0   \n",
       "4           0.0          0.0           0.0  ...                     0       0   \n",
       "\n",
       "   BMAR_2  BMAR_3  BMAR_4  BMAR_5  winter  spring  summer  autumn  \n",
       "0       1       0       0       0       0       0       1       0  \n",
       "1       1       0       0       0       0       1       0       0  \n",
       "2       0       0       0       0       0       1       0       0  \n",
       "3       1       0       0       0       0       0       0       1  \n",
       "4       1       0       0       0       0       0       1       0  \n",
       "\n",
       "[5 rows x 333 columns]"
      ]
     },
     "execution_count": 4,
     "metadata": {},
     "output_type": "execute_result"
    }
   ],
   "source": [
    "#데이터 프레임 상 타겟변수 제거\n",
    "df.drop(['Satify'],axis=1,inplace=True)\n",
    "df.drop(['revisit'],axis=1,inplace=True)\n",
    "df.drop(['recommend'],axis=1,inplace=True)\n",
    "df.head()"
   ]
  },
  {
   "cell_type": "code",
   "execution_count": 5,
   "metadata": {},
   "outputs": [
    {
     "data": {
      "text/plain": [
       "0.7476196521518345"
      ]
     },
     "execution_count": 5,
     "metadata": {},
     "output_type": "execute_result"
    }
   ],
   "source": [
    "#훈련용 데이터셋, 시험 데이터셋 설정\n",
    "X_train, X_test, y_train, y_test = train_test_split(df, point2, random_state=42, stratify = point2)\n",
    "#훈련용 데이터셋 타겟변수 분포 확인\n",
    "sum(y_train)/len(y_train)"
   ]
  },
  {
   "cell_type": "code",
   "execution_count": 6,
   "metadata": {},
   "outputs": [],
   "source": [
    "sc = StandardScaler()\n",
    "X_train = sc.fit_transform(X_train)\n",
    "X_test = sc.transform(X_test)"
   ]
  },
  {
   "cell_type": "code",
   "execution_count": 7,
   "metadata": {},
   "outputs": [],
   "source": [
    "from keras.models import Sequential\n",
    "from keras.layers import Dense, Dropout"
   ]
  },
  {
   "cell_type": "code",
   "execution_count": 8,
   "metadata": {},
   "outputs": [],
   "source": [
    "# 각 레이어의 가중치와 바이어스를 초기화하는 옵션이 있음\n",
    "# keras.initializers.RandomNormal(mean=0.0, stddev=0.05, seed=None)\n",
    "# keras.initializers.RandomUniform(minval=-0.05, maxval=0.05, seed=None)\n",
    "\n",
    "clf = Sequential([\n",
    "    Dense(units=16, kernel_initializer='uniform', input_dim=333, activation='relu'),\n",
    "    Dense(units=18, kernel_initializer='uniform', activation='relu'),\n",
    "    Dropout(0.25),\n",
    "    Dense(20, kernel_initializer='uniform', activation='relu'),\n",
    "    Dense(24, kernel_initializer='uniform', activation='relu'),\n",
    "    Dense(1, kernel_initializer='uniform', activation='sigmoid')\n",
    "])"
   ]
  },
  {
   "cell_type": "code",
   "execution_count": 9,
   "metadata": {
    "scrolled": true
   },
   "outputs": [
    {
     "name": "stdout",
     "output_type": "stream",
     "text": [
      "Model: \"sequential\"\n",
      "_________________________________________________________________\n",
      "Layer (type)                 Output Shape              Param #   \n",
      "=================================================================\n",
      "dense (Dense)                (None, 16)                5344      \n",
      "_________________________________________________________________\n",
      "dense_1 (Dense)              (None, 18)                306       \n",
      "_________________________________________________________________\n",
      "dropout (Dropout)            (None, 18)                0         \n",
      "_________________________________________________________________\n",
      "dense_2 (Dense)              (None, 20)                380       \n",
      "_________________________________________________________________\n",
      "dense_3 (Dense)              (None, 24)                504       \n",
      "_________________________________________________________________\n",
      "dense_4 (Dense)              (None, 1)                 25        \n",
      "=================================================================\n",
      "Total params: 6,559\n",
      "Trainable params: 6,559\n",
      "Non-trainable params: 0\n",
      "_________________________________________________________________\n"
     ]
    }
   ],
   "source": [
    "clf.summary()\n"
   ]
  },
  {
   "cell_type": "code",
   "execution_count": 10,
   "metadata": {},
   "outputs": [],
   "source": [
    "clf.compile(optimizer='adam', loss='binary_crossentropy', metrics=['accuracy'])\n"
   ]
  },
  {
   "cell_type": "code",
   "execution_count": 11,
   "metadata": {
    "scrolled": false
   },
   "outputs": [
    {
     "name": "stdout",
     "output_type": "stream",
     "text": [
      "Epoch 1/10\n",
      "526/526 [==============================] - 1s 1ms/step - loss: 0.4843 - accuracy: 0.7775\n",
      "Epoch 2/10\n",
      "526/526 [==============================] - 1s 1ms/step - loss: 0.4180 - accuracy: 0.8667\n",
      "Epoch 3/10\n",
      "526/526 [==============================] - 1s 1ms/step - loss: 0.3885 - accuracy: 0.8728\n",
      "Epoch 4/10\n",
      "526/526 [==============================] - 1s 1ms/step - loss: 0.3397 - accuracy: 0.8805\n",
      "Epoch 5/10\n",
      "526/526 [==============================] - 1s 1ms/step - loss: 0.3106 - accuracy: 0.8842\n",
      "Epoch 6/10\n",
      "526/526 [==============================] - 1s 1ms/step - loss: 0.2882 - accuracy: 0.8944\n",
      "Epoch 7/10\n",
      "526/526 [==============================] - 1s 1ms/step - loss: 0.2720 - accuracy: 0.8989\n",
      "Epoch 8/10\n",
      "526/526 [==============================] - 1s 996us/step - loss: 0.2559 - accuracy: 0.9075\n",
      "Epoch 9/10\n",
      "526/526 [==============================] - 1s 1ms/step - loss: 0.2393 - accuracy: 0.9155\n",
      "Epoch 10/10\n",
      "526/526 [==============================] - 1s 1ms/step - loss: 0.2277 - accuracy: 0.9181\n"
     ]
    },
    {
     "data": {
      "text/plain": [
       "<tensorflow.python.keras.callbacks.History at 0x2030510e4f0>"
      ]
     },
     "execution_count": 11,
     "metadata": {},
     "output_type": "execute_result"
    }
   ],
   "source": [
    "clf.fit(X_train, y_train, batch_size=15, epochs=10)"
   ]
  },
  {
   "cell_type": "code",
   "execution_count": 12,
   "metadata": {},
   "outputs": [
    {
     "name": "stdout",
     "output_type": "stream",
     "text": [
      "['loss', 'accuracy']\n",
      "[0.4985150396823883, 0.8305407166481018]\n"
     ]
    }
   ],
   "source": [
    "# epoch 10, train-accuracy: 0.921\n",
    "score = clf.evaluate(X_test, y_test, verbose=0)\n",
    "print(clf.metrics_names)\n",
    "print(score)"
   ]
  },
  {
   "cell_type": "code",
   "execution_count": 30,
   "metadata": {},
   "outputs": [
    {
     "name": "stdout",
     "output_type": "stream",
     "text": [
      "['loss', 'accuracy']\n",
      "[0.7549619078636169, 0.8297791481018066]\n"
     ]
    }
   ],
   "source": [
    "# epoch 25, train-accuracy: 0.964\n",
    "score = clf.evaluate(X_test, y_test, verbose=0)\n",
    "print(clf.metrics_names)\n",
    "print(score)"
   ]
  },
  {
   "cell_type": "code",
   "execution_count": 25,
   "metadata": {},
   "outputs": [
    {
     "name": "stdout",
     "output_type": "stream",
     "text": [
      "['loss', 'accuracy']\n",
      "[3.3166873455047607, 0.807311475276947]\n"
     ]
    }
   ],
   "source": [
    "# epoch 50, train-accuracy: 0.989\n",
    "score = clf.evaluate(X_test, y_test, verbose=0)\n",
    "print(clf.metrics_names)\n",
    "print(score)"
   ]
  },
  {
   "cell_type": "code",
   "execution_count": 35,
   "metadata": {},
   "outputs": [
    {
     "name": "stdout",
     "output_type": "stream",
     "text": [
      "['loss', 'accuracy']\n",
      "[1.821864366531372, 0.7943640351295471]\n"
     ]
    }
   ],
   "source": [
    "# epoch 75, train-accuracy: 0.990\n",
    "score = clf.evaluate(X_test, y_test, verbose=0)\n",
    "print(clf.metrics_names)\n",
    "print(score)"
   ]
  },
  {
   "cell_type": "code",
   "execution_count": 13,
   "metadata": {},
   "outputs": [],
   "source": [
    "# 각 레이어의 가중치와 바이어스를 초기화하는 옵션이 있음\n",
    "# keras.initializers.RandomNormal(mean=0.0, stddev=0.05, seed=None)\n",
    "# keras.initializers.RandomUniform(minval=-0.05, maxval=0.05, seed=None)\n",
    "\n",
    "clf = Sequential([\n",
    "    Dense(units=16, kernel_initializer='uniform', input_dim=333, activation='relu'),\n",
    "    Dense(units=18, kernel_initializer='uniform', activation='relu'),\n",
    "    Dense(20, kernel_initializer='uniform', activation='relu'),\n",
    "    Dense(24, kernel_initializer='uniform', activation='relu'),\n",
    "    Dense(1, kernel_initializer='uniform', activation='sigmoid')\n",
    "])"
   ]
  },
  {
   "cell_type": "code",
   "execution_count": 14,
   "metadata": {},
   "outputs": [],
   "source": [
    "clf.compile(optimizer='adam', loss='binary_crossentropy', metrics=['accuracy'])\n"
   ]
  },
  {
   "cell_type": "code",
   "execution_count": 15,
   "metadata": {},
   "outputs": [
    {
     "name": "stdout",
     "output_type": "stream",
     "text": [
      "Epoch 1/10\n",
      "526/526 [==============================] - 0s 943us/step - loss: 0.4887 - accuracy: 0.7729\n",
      "Epoch 2/10\n",
      "526/526 [==============================] - 1s 1ms/step - loss: 0.4137 - accuracy: 0.8682\n",
      "Epoch 3/10\n",
      "526/526 [==============================] - 1s 991us/step - loss: 0.3867 - accuracy: 0.8757\n",
      "Epoch 4/10\n",
      "526/526 [==============================] - 1s 1ms/step - loss: 0.3620 - accuracy: 0.8805\n",
      "Epoch 5/10\n",
      "526/526 [==============================] - 1s 1ms/step - loss: 0.3389 - accuracy: 0.8841\n",
      "Epoch 6/10\n",
      "526/526 [==============================] - 1s 1ms/step - loss: 0.3157 - accuracy: 0.8931\n",
      "Epoch 7/10\n",
      "526/526 [==============================] - 0s 918us/step - loss: 0.2917 - accuracy: 0.9026\n",
      "Epoch 8/10\n",
      "526/526 [==============================] - 0s 933us/step - loss: 0.2700 - accuracy: 0.9059\n",
      "Epoch 9/10\n",
      "526/526 [==============================] - 0s 877us/step - loss: 0.2446 - accuracy: 0.9147\n",
      "Epoch 10/10\n",
      "526/526 [==============================] - 0s 837us/step - loss: 0.2215 - accuracy: 0.9212\n"
     ]
    },
    {
     "data": {
      "text/plain": [
       "<tensorflow.python.keras.callbacks.History at 0x203014fb700>"
      ]
     },
     "execution_count": 15,
     "metadata": {},
     "output_type": "execute_result"
    }
   ],
   "source": [
    "clf.fit(X_train, y_train, batch_size=15, epochs=10)"
   ]
  },
  {
   "cell_type": "code",
   "execution_count": 16,
   "metadata": {},
   "outputs": [
    {
     "name": "stdout",
     "output_type": "stream",
     "text": [
      "['loss', 'accuracy']\n",
      "[0.5662147402763367, 0.8271135091781616]\n"
     ]
    }
   ],
   "source": [
    "# epoch 10, train-accuracy: 0.921\n",
    "score = clf.evaluate(X_test, y_test, verbose=0)\n",
    "print(clf.metrics_names)\n",
    "print(score)"
   ]
  },
  {
   "cell_type": "code",
   "execution_count": null,
   "metadata": {},
   "outputs": [],
   "source": []
  }
 ],
 "metadata": {
  "kernelspec": {
   "display_name": "Python 3",
   "language": "python",
   "name": "python3"
  },
  "language_info": {
   "codemirror_mode": {
    "name": "ipython",
    "version": 3
   },
   "file_extension": ".py",
   "mimetype": "text/x-python",
   "name": "python",
   "nbconvert_exporter": "python",
   "pygments_lexer": "ipython3",
   "version": "3.8.3"
  }
 },
 "nbformat": 4,
 "nbformat_minor": 4
}
