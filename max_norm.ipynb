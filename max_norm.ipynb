{
 "cells": [
  {
   "cell_type": "code",
   "execution_count": 1,
   "metadata": {},
   "outputs": [],
   "source": [
    "import pandas as pd\n",
    "from sklearn.preprocessing import StandardScaler\n",
    "from sklearn.model_selection import train_test_split\n",
    "import keras"
   ]
  },
  {
   "cell_type": "code",
   "execution_count": 2,
   "metadata": {},
   "outputs": [
    {
     "data": {
      "text/plain": [
       "array([0., 2.])"
      ]
     },
     "execution_count": 2,
     "metadata": {},
     "output_type": "execute_result"
    }
   ],
   "source": [
    "#데이터 다운로드\n",
    "df = pd.read_excel(r'C:\\Users\\Hon Kim\\Desktop\\관광통계\\2019년_국민여행조사_원자료\\dfr.xlsx', index = True) #불필요한 열 삭제\n",
    "df.drop(['ID'],axis=1,inplace=True)\n",
    "df.drop(['select_reason_2'],axis=1,inplace=True)\n",
    "df.drop(['select_reason_3'],axis=1,inplace=True)\n",
    "\n",
    "#일부 데이터 정수형변환\n",
    "df['JEJU']=df['JEJU'].astype(int)\n",
    "df['KYUNG_S']=df['KYUNG_S'].astype(int)\n",
    "df['KYUNG_N']=df['KYUNG_N'].astype(int)\n",
    "df['JEON_S']=df['JEON_S'].astype(int)\n",
    "df['JEON_N']=df['JEON_N'].astype(int)\n",
    "df['CHOONG_S']=df['CHOONG_S'].astype(int)\n",
    "df['CHOONG_N']=df['CHOONG_N'].astype(int)\n",
    "df['GANGWON']=df['GANGWON'].astype(int)\n",
    "df['KYUNGGI']=df['KYUNGGI'].astype(int)\n",
    "df['SEJONG']=df['SEJONG'].astype(int)\n",
    "df['ULSAN']=df['ULSAN'].astype(int)\n",
    "df['DAEJEON']=df['DAEJEON'].astype(int)\n",
    "df['GWANGJU']=df['GWANGJU'].astype(int)\n",
    "df['INCHEON']=df['INCHEON'].astype(int)\n",
    "df['DAEGU']=df['DAEGU'].astype(int)\n",
    "df['BUSAN']=df['BUSAN'].astype(int)\n",
    "df['SEOUL']=df['SEOUL'].astype(int)\n",
    "\n",
    "\n",
    "#데이터 구성요소확인\n",
    "df['pre_food'].unique()\n",
    "\n",
    "#결측치 처리\n",
    "df=df.fillna(0)\n",
    "\n",
    "#결측치 처리 확인(multi-hot encoding)\n",
    "df['pre_food'].unique()\n"
   ]
  },
  {
   "cell_type": "code",
   "execution_count": 3,
   "metadata": {},
   "outputs": [
    {
     "data": {
      "text/plain": [
       "7852"
      ]
     },
     "execution_count": 3,
     "metadata": {},
     "output_type": "execute_result"
    }
   ],
   "source": [
    "#만족도, 재방문률, 추천정도 변수를 합쳐\n",
    "#타겟변수설정\n",
    "point = df['Satify']+df['revisit']+df['recommend']\n",
    "\n",
    "#point2 = point >= 15\n",
    "#(point2.values==True).sum()\n",
    "\n",
    "#point2 = point >= 14\n",
    "#(point2.values==True).sum()\n",
    "\n",
    "#point2 = point >= 13\n",
    "#(point2.values==True).sum()\n",
    "\n",
    "point2 = point >= 12\n",
    "(point2.values==True).sum()\n",
    "\n",
    "#point2 = point >= 11\n",
    "#(point2.values==True).sum()\n",
    "\n",
    "#point2 = point >= 10\n",
    "#(point2.values==True).sum()"
   ]
  },
  {
   "cell_type": "code",
   "execution_count": 4,
   "metadata": {},
   "outputs": [
    {
     "data": {
      "text/html": [
       "<div>\n",
       "<style scoped>\n",
       "    .dataframe tbody tr th:only-of-type {\n",
       "        vertical-align: middle;\n",
       "    }\n",
       "\n",
       "    .dataframe tbody tr th {\n",
       "        vertical-align: top;\n",
       "    }\n",
       "\n",
       "    .dataframe thead th {\n",
       "        text-align: right;\n",
       "    }\n",
       "</style>\n",
       "<table border=\"1\" class=\"dataframe\">\n",
       "  <thead>\n",
       "    <tr style=\"text-align: right;\">\n",
       "      <th></th>\n",
       "      <th>visit_count</th>\n",
       "      <th>visit_acq</th>\n",
       "      <th>stay</th>\n",
       "      <th>COST</th>\n",
       "      <th>NUM</th>\n",
       "      <th>per_COST</th>\n",
       "      <th>cost_ski_watering</th>\n",
       "      <th>cost_camping</th>\n",
       "      <th>cost_hiking</th>\n",
       "      <th>cost_fishing</th>\n",
       "      <th>...</th>\n",
       "      <th>earn_self_classify_7</th>\n",
       "      <th>BMAR_1</th>\n",
       "      <th>BMAR_2</th>\n",
       "      <th>BMAR_3</th>\n",
       "      <th>BMAR_4</th>\n",
       "      <th>BMAR_5</th>\n",
       "      <th>winter</th>\n",
       "      <th>spring</th>\n",
       "      <th>summer</th>\n",
       "      <th>autumn</th>\n",
       "    </tr>\n",
       "  </thead>\n",
       "  <tbody>\n",
       "    <tr>\n",
       "      <th>0</th>\n",
       "      <td>4</td>\n",
       "      <td>1</td>\n",
       "      <td>1</td>\n",
       "      <td>100000.0</td>\n",
       "      <td>1</td>\n",
       "      <td>100000.0</td>\n",
       "      <td>0.0</td>\n",
       "      <td>0.0</td>\n",
       "      <td>0.0</td>\n",
       "      <td>0.0</td>\n",
       "      <td>...</td>\n",
       "      <td>0</td>\n",
       "      <td>0</td>\n",
       "      <td>1</td>\n",
       "      <td>0</td>\n",
       "      <td>0</td>\n",
       "      <td>0</td>\n",
       "      <td>0</td>\n",
       "      <td>0</td>\n",
       "      <td>1</td>\n",
       "      <td>0</td>\n",
       "    </tr>\n",
       "    <tr>\n",
       "      <th>1</th>\n",
       "      <td>3</td>\n",
       "      <td>1</td>\n",
       "      <td>1</td>\n",
       "      <td>250000.0</td>\n",
       "      <td>1</td>\n",
       "      <td>250000.0</td>\n",
       "      <td>0.0</td>\n",
       "      <td>0.0</td>\n",
       "      <td>0.0</td>\n",
       "      <td>0.0</td>\n",
       "      <td>...</td>\n",
       "      <td>0</td>\n",
       "      <td>0</td>\n",
       "      <td>1</td>\n",
       "      <td>0</td>\n",
       "      <td>0</td>\n",
       "      <td>0</td>\n",
       "      <td>0</td>\n",
       "      <td>1</td>\n",
       "      <td>0</td>\n",
       "      <td>0</td>\n",
       "    </tr>\n",
       "    <tr>\n",
       "      <th>2</th>\n",
       "      <td>3</td>\n",
       "      <td>1</td>\n",
       "      <td>0</td>\n",
       "      <td>50001.0</td>\n",
       "      <td>3</td>\n",
       "      <td>16667.0</td>\n",
       "      <td>0.0</td>\n",
       "      <td>0.0</td>\n",
       "      <td>0.0</td>\n",
       "      <td>0.0</td>\n",
       "      <td>...</td>\n",
       "      <td>0</td>\n",
       "      <td>1</td>\n",
       "      <td>0</td>\n",
       "      <td>0</td>\n",
       "      <td>0</td>\n",
       "      <td>0</td>\n",
       "      <td>0</td>\n",
       "      <td>1</td>\n",
       "      <td>0</td>\n",
       "      <td>0</td>\n",
       "    </tr>\n",
       "    <tr>\n",
       "      <th>3</th>\n",
       "      <td>3</td>\n",
       "      <td>1</td>\n",
       "      <td>1</td>\n",
       "      <td>120000.0</td>\n",
       "      <td>1</td>\n",
       "      <td>120000.0</td>\n",
       "      <td>0.0</td>\n",
       "      <td>0.0</td>\n",
       "      <td>0.0</td>\n",
       "      <td>0.0</td>\n",
       "      <td>...</td>\n",
       "      <td>0</td>\n",
       "      <td>0</td>\n",
       "      <td>1</td>\n",
       "      <td>0</td>\n",
       "      <td>0</td>\n",
       "      <td>0</td>\n",
       "      <td>0</td>\n",
       "      <td>0</td>\n",
       "      <td>0</td>\n",
       "      <td>1</td>\n",
       "    </tr>\n",
       "    <tr>\n",
       "      <th>4</th>\n",
       "      <td>2</td>\n",
       "      <td>1</td>\n",
       "      <td>2</td>\n",
       "      <td>350001.0</td>\n",
       "      <td>3</td>\n",
       "      <td>116667.0</td>\n",
       "      <td>0.0</td>\n",
       "      <td>0.0</td>\n",
       "      <td>0.0</td>\n",
       "      <td>0.0</td>\n",
       "      <td>...</td>\n",
       "      <td>0</td>\n",
       "      <td>0</td>\n",
       "      <td>1</td>\n",
       "      <td>0</td>\n",
       "      <td>0</td>\n",
       "      <td>0</td>\n",
       "      <td>0</td>\n",
       "      <td>0</td>\n",
       "      <td>1</td>\n",
       "      <td>0</td>\n",
       "    </tr>\n",
       "  </tbody>\n",
       "</table>\n",
       "<p>5 rows × 333 columns</p>\n",
       "</div>"
      ],
      "text/plain": [
       "   visit_count  visit_acq  stay      COST  NUM  per_COST  cost_ski_watering  \\\n",
       "0            4          1     1  100000.0    1  100000.0                0.0   \n",
       "1            3          1     1  250000.0    1  250000.0                0.0   \n",
       "2            3          1     0   50001.0    3   16667.0                0.0   \n",
       "3            3          1     1  120000.0    1  120000.0                0.0   \n",
       "4            2          1     2  350001.0    3  116667.0                0.0   \n",
       "\n",
       "   cost_camping  cost_hiking  cost_fishing  ...  earn_self_classify_7  BMAR_1  \\\n",
       "0           0.0          0.0           0.0  ...                     0       0   \n",
       "1           0.0          0.0           0.0  ...                     0       0   \n",
       "2           0.0          0.0           0.0  ...                     0       1   \n",
       "3           0.0          0.0           0.0  ...                     0       0   \n",
       "4           0.0          0.0           0.0  ...                     0       0   \n",
       "\n",
       "   BMAR_2  BMAR_3  BMAR_4  BMAR_5  winter  spring  summer  autumn  \n",
       "0       1       0       0       0       0       0       1       0  \n",
       "1       1       0       0       0       0       1       0       0  \n",
       "2       0       0       0       0       0       1       0       0  \n",
       "3       1       0       0       0       0       0       0       1  \n",
       "4       1       0       0       0       0       0       1       0  \n",
       "\n",
       "[5 rows x 333 columns]"
      ]
     },
     "execution_count": 4,
     "metadata": {},
     "output_type": "execute_result"
    }
   ],
   "source": [
    "#데이터 프레임 상 타겟변수 제거\n",
    "df.drop(['Satify'],axis=1,inplace=True)\n",
    "df.drop(['revisit'],axis=1,inplace=True)\n",
    "df.drop(['recommend'],axis=1,inplace=True)\n",
    "df.head()"
   ]
  },
  {
   "cell_type": "code",
   "execution_count": 5,
   "metadata": {},
   "outputs": [],
   "source": [
    "def mn(name):\n",
    "    return df[name]/df[name].max()"
   ]
  },
  {
   "cell_type": "code",
   "execution_count": 6,
   "metadata": {},
   "outputs": [],
   "source": [
    "for name in df.columns:\n",
    "    df[name] = mn(name)"
   ]
  },
  {
   "cell_type": "code",
   "execution_count": 7,
   "metadata": {},
   "outputs": [
    {
     "data": {
      "text/plain": [
       "0.7476196521518345"
      ]
     },
     "execution_count": 7,
     "metadata": {},
     "output_type": "execute_result"
    }
   ],
   "source": [
    "#훈련용 데이터셋, 시험 데이터셋 설정\n",
    "X_train, X_test, y_train, y_test = train_test_split(df, point2, random_state=42, stratify = point2)\n",
    "#훈련용 데이터셋 타겟변수 분포 확인\n",
    "sum(y_train)/len(y_train)"
   ]
  },
  {
   "cell_type": "code",
   "execution_count": 8,
   "metadata": {},
   "outputs": [],
   "source": [
    "sc = StandardScaler()\n",
    "X_train = sc.fit_transform(X_train)\n",
    "X_test = sc.transform(X_test)"
   ]
  },
  {
   "cell_type": "code",
   "execution_count": 9,
   "metadata": {},
   "outputs": [],
   "source": [
    "from keras.models import Sequential\n",
    "from keras.layers import Dense, Dropout"
   ]
  },
  {
   "cell_type": "code",
   "execution_count": 46,
   "metadata": {},
   "outputs": [],
   "source": [
    "# 각 레이어의 가중치와 바이어스를 초기화하는 옵션이 있음\n",
    "# keras.initializers.RandomNormal(mean=0.0, stddev=0.05, seed=None)\n",
    "# keras.initializers.RandomUniform(minval=-0.05, maxval=0.05, seed=None)\n",
    "\n",
    "clf = Sequential([\n",
    "    Dense(units=16, kernel_initializer='uniform', input_dim=333, activation='relu'),\n",
    "    Dense(units=18, kernel_initializer='uniform', activation='relu'),\n",
    "    Dense(units=18, kernel_initializer='uniform', activation='relu'),\n",
    "    Dropout(0.25),\n",
    "    Dense(20, kernel_initializer='uniform', activation='relu'),\n",
    "    Dense(24, kernel_initializer='uniform', activation='relu'),\n",
    "    Dense(24, kernel_initializer='uniform', activation='relu'),\n",
    "    Dense(24, kernel_initializer='uniform', activation='relu'),\n",
    "    Dense(24, kernel_initializer='uniform', activation='relu'),\n",
    "    Dropout(0.25),\n",
    "    Dense(20, kernel_initializer='uniform', activation='relu'),\n",
    "    Dense(24, kernel_initializer='uniform', activation='relu'),\n",
    "    Dense(24, kernel_initializer='uniform', activation='relu'),\n",
    "    Dense(24, kernel_initializer='uniform', activation='relu'),\n",
    "    Dense(1, kernel_initializer='uniform', activation='sigmoid')\n",
    "])"
   ]
  },
  {
   "cell_type": "code",
   "execution_count": 47,
   "metadata": {},
   "outputs": [],
   "source": [
    "clf.compile(optimizer='adam', loss='binary_crossentropy', metrics=['accuracy'])\n"
   ]
  },
  {
   "cell_type": "code",
   "execution_count": 48,
   "metadata": {},
   "outputs": [
    {
     "name": "stdout",
     "output_type": "stream",
     "text": [
      "Epoch 1/40\n",
      "526/526 [==============================] - 1s 1ms/step - loss: 0.5341 - accuracy: 0.7457\n",
      "Epoch 2/40\n",
      "526/526 [==============================] - 1s 1ms/step - loss: 0.3735 - accuracy: 0.8678\n",
      "Epoch 3/40\n",
      "526/526 [==============================] - 1s 1ms/step - loss: 0.3435 - accuracy: 0.8742\n",
      "Epoch 4/40\n",
      "526/526 [==============================] - 1s 1ms/step - loss: 0.3316 - accuracy: 0.8755\n",
      "Epoch 5/40\n",
      "526/526 [==============================] - 1s 1ms/step - loss: 0.3275 - accuracy: 0.8770\n",
      "Epoch 6/40\n",
      "526/526 [==============================] - 1s 1ms/step - loss: 0.3173 - accuracy: 0.8772\n",
      "Epoch 7/40\n",
      "526/526 [==============================] - 1s 1ms/step - loss: 0.3110 - accuracy: 0.8788\n",
      "Epoch 8/40\n",
      "526/526 [==============================] - 1s 1ms/step - loss: 0.3048 - accuracy: 0.8810\n",
      "Epoch 9/40\n",
      "526/526 [==============================] - 1s 1ms/step - loss: 0.3009 - accuracy: 0.8827\n",
      "Epoch 10/40\n",
      "526/526 [==============================] - 1s 1ms/step - loss: 0.2891 - accuracy: 0.8897\n",
      "Epoch 11/40\n",
      "526/526 [==============================] - 1s 1ms/step - loss: 0.2731 - accuracy: 0.8979\n",
      "Epoch 12/40\n",
      "526/526 [==============================] - 1s 1ms/step - loss: 0.2594 - accuracy: 0.9058\n",
      "Epoch 13/40\n",
      "526/526 [==============================] - 1s 1ms/step - loss: 0.2466 - accuracy: 0.9134\n",
      "Epoch 14/40\n",
      "526/526 [==============================] - 1s 1ms/step - loss: 0.2349 - accuracy: 0.9167\n",
      "Epoch 15/40\n",
      "526/526 [==============================] - 1s 1ms/step - loss: 0.2241 - accuracy: 0.9266\n",
      "Epoch 16/40\n",
      "526/526 [==============================] - 1s 1ms/step - loss: 0.2179 - accuracy: 0.9278\n",
      "Epoch 17/40\n",
      "526/526 [==============================] - 1s 1ms/step - loss: 0.2054 - accuracy: 0.9341\n",
      "Epoch 18/40\n",
      "526/526 [==============================] - 1s 1ms/step - loss: 0.1962 - accuracy: 0.9358\n",
      "Epoch 19/40\n",
      "526/526 [==============================] - 1s 1ms/step - loss: 0.1899 - accuracy: 0.9397\n",
      "Epoch 20/40\n",
      "526/526 [==============================] - 1s 1ms/step - loss: 0.1791 - accuracy: 0.9431\n",
      "Epoch 21/40\n",
      "526/526 [==============================] - 1s 1ms/step - loss: 0.1723 - accuracy: 0.9445\n",
      "Epoch 22/40\n",
      "526/526 [==============================] - 1s 1ms/step - loss: 0.1629 - accuracy: 0.9491\n",
      "Epoch 23/40\n",
      "526/526 [==============================] - 1s 1ms/step - loss: 0.1583 - accuracy: 0.9509\n",
      "Epoch 24/40\n",
      "526/526 [==============================] - 1s 1ms/step - loss: 0.1508 - accuracy: 0.9530\n",
      "Epoch 25/40\n",
      "526/526 [==============================] - 1s 1ms/step - loss: 0.1421 - accuracy: 0.9585\n",
      "Epoch 26/40\n",
      "526/526 [==============================] - 1s 1ms/step - loss: 0.1478 - accuracy: 0.9548\n",
      "Epoch 27/40\n",
      "526/526 [==============================] - 1s 1ms/step - loss: 0.1403 - accuracy: 0.9589\n",
      "Epoch 28/40\n",
      "526/526 [==============================] - 1s 1ms/step - loss: 0.1273 - accuracy: 0.9639\n",
      "Epoch 29/40\n",
      "526/526 [==============================] - 1s 1ms/step - loss: 0.1291 - accuracy: 0.9622\n",
      "Epoch 30/40\n",
      "526/526 [==============================] - 1s 1ms/step - loss: 0.1240 - accuracy: 0.9655\n",
      "Epoch 31/40\n",
      "526/526 [==============================] - 1s 1ms/step - loss: 0.1276 - accuracy: 0.9613\n",
      "Epoch 32/40\n",
      "526/526 [==============================] - 1s 1ms/step - loss: 0.1198 - accuracy: 0.9664\n",
      "Epoch 33/40\n",
      "526/526 [==============================] - 1s 1ms/step - loss: 0.1267 - accuracy: 0.9628\n",
      "Epoch 34/40\n",
      "526/526 [==============================] - 1s 1ms/step - loss: 0.1112 - accuracy: 0.9689\n",
      "Epoch 35/40\n",
      "526/526 [==============================] - 1s 1ms/step - loss: 0.1071 - accuracy: 0.9690\n",
      "Epoch 36/40\n",
      "526/526 [==============================] - 1s 1ms/step - loss: 0.1132 - accuracy: 0.9669\n",
      "Epoch 37/40\n",
      "526/526 [==============================] - 1s 1ms/step - loss: 0.1040 - accuracy: 0.9705\n",
      "Epoch 38/40\n",
      "526/526 [==============================] - 1s 1ms/step - loss: 0.0992 - accuracy: 0.9719\n",
      "Epoch 39/40\n",
      "526/526 [==============================] - 1s 1ms/step - loss: 0.1017 - accuracy: 0.9721\n",
      "Epoch 40/40\n",
      "526/526 [==============================] - 1s 1ms/step - loss: 0.1061 - accuracy: 0.9679\n"
     ]
    },
    {
     "data": {
      "text/plain": [
       "<tensorflow.python.keras.callbacks.History at 0x1d6c0cacbe0>"
      ]
     },
     "execution_count": 48,
     "metadata": {},
     "output_type": "execute_result"
    }
   ],
   "source": [
    "clf.fit(X_train, y_train, batch_size=15, epochs=40)"
   ]
  },
  {
   "cell_type": "code",
   "execution_count": 49,
   "metadata": {},
   "outputs": [
    {
     "name": "stdout",
     "output_type": "stream",
     "text": [
      "['loss', 'accuracy']\n",
      "[0.6997844576835632, 0.8221629858016968]\n"
     ]
    }
   ],
   "source": [
    "# epoch 10, train-accuracy: 0.921\n",
    "score = clf.evaluate(X_test, y_test, verbose=0)\n",
    "print(clf.metrics_names)\n",
    "print(score)"
   ]
  },
  {
   "cell_type": "code",
   "execution_count": 65,
   "metadata": {},
   "outputs": [],
   "source": [
    "# 각 레이어의 가중치와 바이어스를 초기화하는 옵션이 있음\n",
    "# keras.initializers.RandomNormal(mean=0.0, stddev=0.05, seed=None)\n",
    "# keras.initializers.RandomUniform(minval=-0.05, maxval=0.05, seed=None)\n",
    "\n",
    "clf = Sequential([\n",
    "    Dense(units=16, kernel_initializer='uniform', input_dim=333, activation='relu'),\n",
    "    Dense(units=18, kernel_initializer='uniform', activation='relu'),\n",
    "\n",
    "    Dropout(0.25),\n",
    "    Dense(20, kernel_initializer='uniform', activation='relu'),\n",
    "    Dense(24, kernel_initializer='uniform', activation='relu'),\n",
    "    Dense(24, kernel_initializer='uniform', activation='relu'),\n",
    "    Dense(24, kernel_initializer='uniform', activation='relu'),\n",
    "    Dense(1, kernel_initializer='uniform', activation='sigmoid')\n",
    "])"
   ]
  },
  {
   "cell_type": "code",
   "execution_count": 66,
   "metadata": {},
   "outputs": [],
   "source": [
    "clf.compile(optimizer='adam', loss='binary_crossentropy', metrics=['accuracy'])\n"
   ]
  },
  {
   "cell_type": "code",
   "execution_count": 67,
   "metadata": {},
   "outputs": [
    {
     "name": "stdout",
     "output_type": "stream",
     "text": [
      "Epoch 1/10\n",
      "526/526 [==============================] - 1s 1ms/step - loss: 0.5016 - accuracy: 0.7584\n",
      "Epoch 2/10\n",
      "526/526 [==============================] - 1s 1ms/step - loss: 0.3610 - accuracy: 0.8710\n",
      "Epoch 3/10\n",
      "526/526 [==============================] - 1s 1ms/step - loss: 0.3249 - accuracy: 0.8799: 0s - loss: 0.3304 \n",
      "Epoch 4/10\n",
      "526/526 [==============================] - 1s 1ms/step - loss: 0.3105 - accuracy: 0.8847\n",
      "Epoch 5/10\n",
      "526/526 [==============================] - 1s 1ms/step - loss: 0.3008 - accuracy: 0.8875\n",
      "Epoch 6/10\n",
      "526/526 [==============================] - 1s 1ms/step - loss: 0.2904 - accuracy: 0.8926\n",
      "Epoch 7/10\n",
      "526/526 [==============================] - 1s 1ms/step - loss: 0.2778 - accuracy: 0.8992\n",
      "Epoch 8/10\n",
      "526/526 [==============================] - 1s 1ms/step - loss: 0.2683 - accuracy: 0.9030\n",
      "Epoch 9/10\n",
      "526/526 [==============================] - 1s 1ms/step - loss: 0.2542 - accuracy: 0.9078\n",
      "Epoch 10/10\n",
      "526/526 [==============================] - 1s 1ms/step - loss: 0.2472 - accuracy: 0.9139\n"
     ]
    },
    {
     "data": {
      "text/plain": [
       "<tensorflow.python.keras.callbacks.History at 0x1d6c498d0a0>"
      ]
     },
     "execution_count": 67,
     "metadata": {},
     "output_type": "execute_result"
    }
   ],
   "source": [
    "clf.fit(X_train, y_train, batch_size=15, epochs=10)"
   ]
  },
  {
   "cell_type": "code",
   "execution_count": 68,
   "metadata": {},
   "outputs": [
    {
     "name": "stdout",
     "output_type": "stream",
     "text": [
      "['loss', 'accuracy']\n",
      "[0.44461843371391296, 0.8571972846984863]\n"
     ]
    }
   ],
   "source": [
    "# epoch 10, train-accuracy: 0.921\n",
    "score = clf.evaluate(X_test, y_test, verbose=0)\n",
    "print(clf.metrics_names)\n",
    "print(score)"
   ]
  },
  {
   "cell_type": "code",
   "execution_count": 69,
   "metadata": {},
   "outputs": [
    {
     "name": "stdout",
     "output_type": "stream",
     "text": [
      "Best: 0.864542 using {'batch_size': 5, 'epochs': 5}\n",
      "0.864542 (0.008707) with: {'batch_size': 5, 'epochs': 5}\n",
      "0.842198 (0.002967) with: {'batch_size': 5, 'epochs': 10}\n",
      "0.831154 (0.002992) with: {'batch_size': 5, 'epochs': 15}\n",
      "0.832420 (0.017898) with: {'batch_size': 5, 'epochs': 20}\n",
      "0.858703 (0.005942) with: {'batch_size': 10, 'epochs': 5}\n",
      "0.843596 (0.006554) with: {'batch_size': 10, 'epochs': 10}\n",
      "0.832803 (0.012950) with: {'batch_size': 10, 'epochs': 15}\n",
      "0.825569 (0.002398) with: {'batch_size': 10, 'epochs': 20}\n",
      "0.860987 (0.003244) with: {'batch_size': 15, 'epochs': 5}\n",
      "0.826076 (0.014103) with: {'batch_size': 15, 'epochs': 10}\n",
      "0.836740 (0.003442) with: {'batch_size': 15, 'epochs': 15}\n",
      "0.817316 (0.003875) with: {'batch_size': 15, 'epochs': 20}\n",
      "0.858702 (0.006864) with: {'batch_size': 20, 'epochs': 5}\n",
      "0.841309 (0.011853) with: {'batch_size': 20, 'epochs': 10}\n",
      "0.830775 (0.009950) with: {'batch_size': 20, 'epochs': 15}\n",
      "0.821631 (0.010035) with: {'batch_size': 20, 'epochs': 20}\n",
      "0.859846 (0.006520) with: {'batch_size': 25, 'epochs': 5}\n",
      "0.852481 (0.003989) with: {'batch_size': 25, 'epochs': 10}\n",
      "0.819601 (0.002438) with: {'batch_size': 25, 'epochs': 15}\n",
      "0.823409 (0.005490) with: {'batch_size': 25, 'epochs': 20}\n",
      "0.855149 (0.007754) with: {'batch_size': 30, 'epochs': 5}\n",
      "0.842580 (0.006263) with: {'batch_size': 30, 'epochs': 10}\n",
      "0.827090 (0.013088) with: {'batch_size': 30, 'epochs': 15}\n",
      "0.812998 (0.012885) with: {'batch_size': 30, 'epochs': 20}\n"
     ]
    }
   ],
   "source": [
    "import numpy\n",
    "from sklearn.model_selection import GridSearchCV\n",
    "from keras.models import Sequential\n",
    "from keras.layers import Dense\n",
    "from keras.wrappers.scikit_learn import KerasClassifier\n",
    "# Function to create model, required for KerasClassifier\n",
    "def create_model():\n",
    "\t# create model\n",
    "\tmodel = Sequential([\n",
    "    Dense(units=16, kernel_initializer='uniform', input_dim=333, activation='relu'),\n",
    "    Dense(units=18, kernel_initializer='uniform', activation='relu'),\n",
    "\n",
    "    Dropout(0.25),\n",
    "    Dense(20, kernel_initializer='uniform', activation='relu'),\n",
    "    Dense(24, kernel_initializer='uniform', activation='relu'),\n",
    "    Dense(24, kernel_initializer='uniform', activation='relu'),\n",
    "    Dense(24, kernel_initializer='uniform', activation='relu'),\n",
    "    Dense(1, kernel_initializer='uniform', activation='sigmoid')\n",
    "])\n",
    "\t# Compile model\n",
    "\tmodel.compile(loss='binary_crossentropy', optimizer='adam', metrics=['accuracy'])\n",
    "\treturn model\n",
    "# fix random seed for reproducibility\n",
    "seed = 7\n",
    "numpy.random.seed(seed)\n",
    "# load dataset\n",
    "\n",
    "# create model\n",
    "model = KerasClassifier(build_fn=create_model, verbose=0)\n",
    "# define the grid search parameters\n",
    "batch_size = [5,10,15, 20,25,30]\n",
    "epochs = [5,10,15,20]\n",
    "param_grid = dict(batch_size=batch_size, epochs=epochs)\n",
    "grid = GridSearchCV(estimator=model, param_grid=param_grid, n_jobs=-1, cv=3)\n",
    "grid_result = grid.fit(X_train, y_train)\n",
    "# summarize results\n",
    "print(\"Best: %f using %s\" % (grid_result.best_score_, grid_result.best_params_))\n",
    "means = grid_result.cv_results_['mean_test_score']\n",
    "stds = grid_result.cv_results_['std_test_score']\n",
    "params = grid_result.cv_results_['params']\n",
    "for mean, stdev, param in zip(means, stds, params):\n",
    "    print(\"%f (%f) with: %r\" % (mean, stdev, param))"
   ]
  },
  {
   "cell_type": "code",
   "execution_count": null,
   "metadata": {},
   "outputs": [],
   "source": []
  }
 ],
 "metadata": {
  "kernelspec": {
   "display_name": "Python 3",
   "language": "python",
   "name": "python3"
  },
  "language_info": {
   "codemirror_mode": {
    "name": "ipython",
    "version": 3
   },
   "file_extension": ".py",
   "mimetype": "text/x-python",
   "name": "python",
   "nbconvert_exporter": "python",
   "pygments_lexer": "ipython3",
   "version": "3.8.3"
  }
 },
 "nbformat": 4,
 "nbformat_minor": 4
}
